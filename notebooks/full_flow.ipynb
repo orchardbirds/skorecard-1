{
 "metadata": {
  "language_info": {
   "codemirror_mode": {
    "name": "ipython",
    "version": 3
   },
   "file_extension": ".py",
   "mimetype": "text/x-python",
   "name": "python",
   "nbconvert_exporter": "python",
   "pygments_lexer": "ipython3",
   "version": "3.7.4-final"
  },
  "orig_nbformat": 2,
  "kernelspec": {
   "name": "Python 3.7.4 64-bit ('base': conda)",
   "display_name": "Python 3.7.4 64-bit ('base': conda)",
   "metadata": {
    "interpreter": {
     "hash": "61a9efb557ee20b19fda2d58cb63f9a3bf86c2530fcd43d63aa6e0adea42a5e4"
    }
   }
  }
 },
 "nbformat": 4,
 "nbformat_minor": 2,
 "cells": [
  {
   "cell_type": "code",
   "execution_count": 1,
   "metadata": {
    "tags": []
   },
   "outputs": [
    {
     "output_type": "stream",
     "name": "stdout",
     "text": "The autoreload extension is already loaded. To reload it, use:\n  %reload_ext autoreload\n"
    }
   ],
   "source": [
    "%load_ext autoreload\n",
    "%autoreload 2\n",
    "\n",
    "from skorecard import datasets\n",
    "from dabl import detect_types\n",
    "\n",
    "from sklearn.compose import ColumnTransformer\n",
    "from sklearn.pipeline import Pipeline, make_pipeline\n",
    "from sklearn.preprocessing import OneHotEncoder\n",
    "from sklearn.tree import DecisionTreeClassifier\n",
    "from sklearn.metrics import roc_auc_score\n",
    "\n",
    "from skorecard.bucketers import DecisionTreeBucketer, EqualWidthBucketer, OrdinalCategoricalBucketer\n",
    "\n",
    "# from skorecard.linear_model import LogisticRegression\n",
    "from sklearn.linear_model import LogisticRegression\n",
    "\n",
    "# from feature_engine.discretisers import EqualWidthDiscretiser"
   ]
  },
  {
   "cell_type": "code",
   "execution_count": 2,
   "metadata": {},
   "outputs": [],
   "source": [
    "X, y = datasets.load_uci_credit_card(return_X_y=True)"
   ]
  },
  {
   "cell_type": "code",
   "execution_count": 3,
   "metadata": {
    "tags": []
   },
   "outputs": [
    {
     "output_type": "stream",
     "name": "stdout",
     "text": "cat_columns = Index(['EDUCATION', 'MARRIAGE'], dtype='object')\nnum_columns = Index(['LIMIT_BAL', 'BILL_AMT1'], dtype='object')\n"
    }
   ],
   "source": [
    "# Specify categorical and numerical columns\n",
    "# We'll autodetect using dabl.detect_types\n",
    "detected_types = detect_types(X)\n",
    "cat_columns = X.columns[(detected_types['categorical']==True) | (detected_types['low_card_int']==True)]\n",
    "num_columns = X.columns[(detected_types['continuous']==True) | (detected_types['dirty_float']==True)]\n",
    "print(f\"cat_columns = {cat_columns}\")\n",
    "print(f\"num_columns = {num_columns}\")"
   ]
  },
  {
   "cell_type": "code",
   "execution_count": 5,
   "metadata": {},
   "outputs": [
    {
     "output_type": "execute_result",
     "data": {
      "text/plain": "'AUC = 0.6135'"
     },
     "metadata": {},
     "execution_count": 5
    }
   ],
   "source": [
    "# using make pipeline\n",
    "\n",
    "bucket_pipeline = make_pipeline(\n",
    "    EqualWidthBucketer(bins=5, variables=list(num_columns)),\n",
    "    OrdinalCategoricalBucketer(variables=list(cat_columns))\n",
    ")\n",
    "\n",
    "pipeline = Pipeline([\n",
    "    ('bucketing', bucket_pipeline),\n",
    "    ('one-hot-encoding', OneHotEncoder()),\n",
    "    ('lr', LogisticRegression())\n",
    "])\n",
    "\n",
    "pipeline.fit(X, y)\n",
    "f\"AUC = {roc_auc_score(y, pipeline.predict_proba(X)[:,1]):.4f}\"\n"
   ]
  },
  {
   "cell_type": "code",
   "execution_count": 7,
   "metadata": {},
   "outputs": [
    {
     "output_type": "execute_result",
     "data": {
      "text/plain": "'AUC = 0.6135'"
     },
     "metadata": {},
     "execution_count": 7
    }
   ],
   "source": [
    "# Using a ColumnTransformer\n",
    "\n",
    "bucket_pipeline = ColumnTransformer([\n",
    "    ('categorical_preprocessing', OrdinalCategoricalBucketer(), ['EDUCATION', 'MARRIAGE']),\n",
    "    ('numerical_preprocessing', EqualWidthBucketer(bins=5), ['LIMIT_BAL','BILL_AMT1'])\n",
    "], remainder=\"passthrough\")\n",
    "\n",
    "# bucket_pipeline.fit_transform(X, y)\n",
    "\n",
    "pipeline = Pipeline([\n",
    "    ('bucketing', bucket_pipeline),\n",
    "    ('one-hot-encoding', OneHotEncoder()),\n",
    "    ('lr', LogisticRegression())\n",
    "])\n",
    "\n",
    "pipeline.fit(X, y)\n",
    "f\"AUC = {roc_auc_score(y, pipeline.predict_proba(X)[:,1]):.4f}\""
   ]
  },
  {
   "cell_type": "code",
   "execution_count": null,
   "metadata": {},
   "outputs": [],
   "source": []
  }
 ]
}