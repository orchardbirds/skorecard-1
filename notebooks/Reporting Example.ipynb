{
 "cells": [
  {
   "cell_type": "code",
   "execution_count": null,
   "metadata": {},
   "outputs": [],
   "source": [
    "%load_ext autoreload\n",
    "%autoreload 2\n",
    "\n",
    "from skorecard.reporting import create_report \n",
    "from skorecard import datasets\n",
    "\n",
    "import pandas as pd\n",
    "import numpy as np"
   ]
  },
  {
   "cell_type": "code",
   "execution_count": null,
   "metadata": {},
   "outputs": [],
   "source": [
    "X, y = datasets.load_uci_credit_card(return_X_y=True)"
   ]
  },
  {
   "cell_type": "code",
   "execution_count": null,
   "metadata": {},
   "outputs": [],
   "source": [
    "from sklearn.compose import ColumnTransformer\n",
    "from sklearn.pipeline import Pipeline, make_pipeline\n",
    "from sklearn.preprocessing import OneHotEncoder\n",
    "from sklearn.tree import DecisionTreeClassifier\n",
    "from sklearn.metrics import roc_auc_score\n",
    "\n",
    "from skorecard.bucketers import DecisionTreeBucketer, EqualWidthBucketer, OrdinalCategoricalBucketer\n",
    "\n",
    "from sklearn.linear_model import LogisticRegression\n",
    "\n",
    "from dabl import detect_types\n",
    "# using make pipeline\n",
    "\n",
    "detected_types = detect_types(X)\n",
    "cat_columns = X.columns[(detected_types['categorical']==True) | (detected_types['low_card_int']==True)]\n",
    "num_columns = X.columns[(detected_types['continuous']==True) | (detected_types['dirty_float']==True)]\n",
    "\n",
    "\n",
    "bucket_pipeline = make_pipeline(\n",
    "    EqualWidthBucketer(bins=5, variables=list(num_columns)),\n",
    "    OrdinalCategoricalBucketer(variables=list(cat_columns))\n",
    ")\n",
    "\n",
    "pipeline = Pipeline([\n",
    "    ('bucketing', bucket_pipeline),\n",
    "    ('one-hot-encoding', OneHotEncoder()),\n",
    "    ('lr', LogisticRegression())\n",
    "])\n",
    "\n",
    "pipeline.fit(X, y)\n",
    "f\"AUC = {roc_auc_score(y, pipeline.predict_proba(X)[:,1]):.4f}\"\n"
   ]
  },
  {
   "cell_type": "code",
   "execution_count": null,
   "metadata": {},
   "outputs": [],
   "source": [
    "df = create_report(X, y, column='LIMIT_BAL', bucketer=bucket_pipeline.named_steps['equalwidthbucketer'])"
   ]
  }
 ],
 "metadata": {
  "kernelspec": {
   "display_name": "Python [conda env:skorecard_py37] *",
   "language": "python",
   "name": "conda-env-skorecard_py37-py"
  },
  "language_info": {
   "codemirror_mode": {
    "name": "ipython",
    "version": 3
   },
   "file_extension": ".py",
   "mimetype": "text/x-python",
   "name": "python",
   "nbconvert_exporter": "python",
   "pygments_lexer": "ipython3",
   "version": "3.7.7"
  }
 },
 "nbformat": 4,
 "nbformat_minor": 4
}
