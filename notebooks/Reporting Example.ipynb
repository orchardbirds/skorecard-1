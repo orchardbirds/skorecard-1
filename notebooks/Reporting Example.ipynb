{
 "cells": [
  {
   "cell_type": "code",
   "execution_count": null,
   "metadata": {},
   "outputs": [],
   "source": [
    "%load_ext autoreload\n",
    "%autoreload 2\n",
    "\n",
    "from skorecard.reporting import create_report \n",
    "from skorecard import datasets\n",
    "\n",
    "import pandas as pd\n",
    "import numpy as np\n",
    "from sklearn.compose import ColumnTransformer\n",
    "from sklearn.pipeline import Pipeline, make_pipeline\n",
    "from sklearn.preprocessing import OneHotEncoder\n",
    "from sklearn.tree import DecisionTreeClassifier\n",
    "from sklearn.metrics import roc_auc_score\n",
    "\n",
    "from skorecard.bucketers import DecisionTreeBucketer, EqualWidthBucketer, OrdinalCategoricalBucketer\n",
    "\n",
    "from sklearn.linear_model import LogisticRegression\n",
    "from plotly.subplots import make_subplots\n",
    "\n",
    "from dabl import detect_types"
   ]
  },
  {
   "cell_type": "code",
   "execution_count": null,
   "metadata": {},
   "outputs": [],
   "source": [
    "import dash\n",
    "import dash_html_components as html\n",
    "import dash_core_components as dcc\n",
    "from dash.dependencies import Input, Output\n",
    "import plotly.express as px\n",
    "import plotly.graph_objects as go\n",
    "from jupyter_dash import JupyterDash\n",
    "from dabl import detect_types\n",
    "from sklearn.pipeline import make_pipeline\n",
    "pd.options.plotting.backend = \"plotly\""
   ]
  },
  {
   "cell_type": "code",
   "execution_count": null,
   "metadata": {},
   "outputs": [],
   "source": [
    "app = JupyterDash(__name__)\n",
    "\n",
    "app.layout = html.Div([\n",
    "    html.Div([\n",
    "        dcc.Graph(id='barplot',\n",
    "                  config={'displayModeBar': False},\n",
    "                  animate=True)\n",
    "    ]),\n",
    "    \n",
    "    html.Div([\n",
    "        dcc.Slider(\n",
    "            id='n_bin--slider',\n",
    "            min=2,\n",
    "            max=40,\n",
    "            value=2,\n",
    "            marks={str(i): str(i) for i in range(2, 40, 2)},\n",
    "            step=None)\n",
    "        ]),\n",
    "    html.Div([\n",
    "        dcc.Dropdown(\n",
    "                id='dropdown-column',\n",
    "                options=[{'label': i, 'value': i} for i in X.columns],\n",
    "                value='LIMIT_BAL'\n",
    "        )])\n",
    "            ])\n"
   ]
  },
  {
   "cell_type": "code",
   "execution_count": null,
   "metadata": {},
   "outputs": [],
   "source": [
    "def generate_bucketed(n_bins, column):\n",
    "    X, y = datasets.load_uci_credit_card(return_X_y=True)\n",
    "    n_bins = int(n_bins)\n",
    "    detected_types = detect_types(X)\n",
    "    cat_columns = X.columns[(detected_types['categorical']==True) | (detected_types['low_card_int']==True)]\n",
    "    num_columns = X.columns[(detected_types['continuous']==True) | (detected_types['dirty_float']==True)]\n",
    "\n",
    "    bucket_pipeline = make_pipeline(\n",
    "        EqualWidthBucketer(bins=n_bins, variables=list(num_columns)),\n",
    "        OrdinalCategoricalBucketer(variables=list(cat_columns))\n",
    "    )\n",
    "\n",
    "    pipeline = Pipeline([\n",
    "        ('bucketing', bucket_pipeline),\n",
    "        ('one-hot-encoding', OneHotEncoder()),\n",
    "        ('lr', LogisticRegression())\n",
    "    ])\n",
    "\n",
    "    pipeline.fit(X, y)\n",
    "    auc = f\"AUC = {roc_auc_score(y, pipeline.predict_proba(X)[:,1]):.4f}\"\n",
    "    \n",
    "    \n",
    "    bucketer=bucket_pipeline.named_steps['equalwidthbucketer']\n",
    "    #column='LIMIT_BAL'\n",
    "    X = X.copy()\n",
    "    X_transform = bucketer.transform(X)\n",
    "    df = pd.DataFrame(\n",
    "        {\n",
    "            \"BUCKET\": X_transform[column].value_counts().keys(),\n",
    "            \"NUMBER_IN_BUCKET\": X_transform[column].value_counts().values,\n",
    "            \"PERCENTAGE_IN_BUCKET\": X_transform[column].value_counts(normalize=True).values,\n",
    "        }\n",
    "    )\n",
    "    X_transform[\"target\"] = y\n",
    "\n",
    "    # Defaults\n",
    "    tmp = (\n",
    "        X_transform.groupby([column])[\"target\"].sum().reset_index().rename(columns={column: \"BUCKET\", \"target\": \"BADS\"})\n",
    "    )\n",
    "\n",
    "    # Merge defaults\n",
    "    df = df.merge(tmp, how=\"left\", on=\"BUCKET\")\n",
    "\n",
    "    # Default rates\n",
    "    df[\"DEFAULT_RATE\"] = df[\"BADS\"] / df[\"NUMBER_IN_BUCKET\"]  # todo: can we divide by 0 accidentally?\n",
    "\n",
    "    # Get aggregations\n",
    "    X_transform[f\"{column}_ORIGINAL\"] = X[column]\n",
    "    tmp = X_transform.groupby([column]).agg({f\"{column}_ORIGINAL\": [\"min\", \"max\", \"mean\"]}).reset_index()\n",
    "\n",
    "    # Rename due to .agg()\n",
    "    tmp.columns = [\"_\".join(c) for c in tmp.columns.ravel()]\n",
    "    tmp = tmp.rename(columns={f\"{column}_\": \"BUCKET\"})  # todo: there must be a cleaner way than this shit\n",
    "\n",
    "    # Merge aggregations\n",
    "    df = df.merge(tmp, how=\"left\", on=\"BUCKET\")\n",
    "    \n",
    "    return df, auc\n",
    "\n",
    "\n",
    "def create_barplot(df, auc):\n",
    "    bin_number = df.shape[0]\n",
    "    df = df.sort_values('BUCKET')\n",
    "    # Create figure with secondary y-axis\n",
    "    fig = make_subplots(specs=[[{\"secondary_y\": True}]])\n",
    "    \n",
    "#     fig.update_traces(mode='lines+markers')\n",
    "    fig.update_traces()\n",
    "\n",
    "    fig.update_xaxes(showgrid=False)\n",
    "\n",
    "    fig.update_yaxes(showgrid=False)\n",
    "    \n",
    "    fig.add_annotation(x=0, y=0.85, xanchor='left', yanchor='bottom',\n",
    "                       xref='paper', yref='paper', showarrow=False, align='left',\n",
    "                       bgcolor='rgba(255, 255, 255, 0.5)', text=bin_number)\n",
    "\n",
    "    # Add traces\n",
    "    fig.add_trace(\n",
    "        go.Bar(x=df['BUCKET'], y=df['PERCENTAGE_IN_BUCKET'], name=\"Percentages\"),\n",
    "        secondary_y=False\n",
    "    )\n",
    "\n",
    "    fig.add_trace(\n",
    "        go.Scatter(x=df['BUCKET'], y=df['DEFAULT_RATE'], name=\"Default Rates\"),\n",
    "        secondary_y=True\n",
    "    )\n",
    "    fig.update_yaxes(title_text=\"Percentage\", secondary_y=False)\n",
    "    fig.update_yaxes(title_text=\"Default Rate\", secondary_y=True)\n",
    "\n",
    "    fig.update_layout(\n",
    "        title=auc,\n",
    "        xaxis_title=\"Bucket Number\",\n",
    "        font_family=\"Courier New\"\n",
    "    )\n",
    "    return fig\n",
    "\n",
    "@app.callback(dash.dependencies.Output('barplot', 'figure'),\n",
    "              [dash.dependencies.Input('n_bin--slider', 'value'),\n",
    "               dash.dependencies.Input('dropdown-column', 'value')])\n",
    "def update_plot(n_bins, column):\n",
    "    ''' Update plot with new n_bins '''\n",
    "\n",
    "    df, auc = generate_bucketed(n_bins, column)\n",
    "\n",
    "    return create_barplot(df, auc)"
   ]
  },
  {
   "cell_type": "code",
   "execution_count": null,
   "metadata": {},
   "outputs": [],
   "source": [
    "app.run_server(mode='jupyterlab', port = 8890, dev_tools_ui=True, #debug=True,\n",
    "              dev_tools_hot_reload =True, threaded=True)"
   ]
  },
  {
   "cell_type": "code",
   "execution_count": null,
   "metadata": {},
   "outputs": [],
   "source": [
    "tmp = generate_bucketed(12)\n",
    "create_barplot(tmp)"
   ]
  },
  {
   "cell_type": "code",
   "execution_count": null,
   "metadata": {},
   "outputs": [],
   "source": [
    "tmp"
   ]
  },
  {
   "cell_type": "code",
   "execution_count": null,
   "metadata": {},
   "outputs": [],
   "source": [
    "X, y = datasets.load_uci_credit_card(return_X_y=True)\n",
    "detected_types = detect_types(X)\n",
    "cat_columns = X.columns[(detected_types['categorical']==True) | (detected_types['low_card_int']==True)]\n",
    "num_columns = X.columns[(detected_types['continuous']==True) | (detected_types['dirty_float']==True)]\n"
   ]
  },
  {
   "cell_type": "code",
   "execution_count": null,
   "metadata": {},
   "outputs": [],
   "source": [
    "num_columns"
   ]
  },
  {
   "cell_type": "code",
   "execution_count": null,
   "metadata": {},
   "outputs": [],
   "source": [
    "X, y = datasets.load_uci_credit_card(return_X_y=True)\n",
    "detected_types = detect_types(X)\n",
    "cat_columns = X.columns[(detected_types['categorical']) | (detected_types['low_card_int']==True)]\n",
    "num_columns = X.columns[(detected_types['continuous']) | (detected_types['dirty_float']==True)]\n"
   ]
  },
  {
   "cell_type": "code",
   "execution_count": null,
   "metadata": {},
   "outputs": [],
   "source": [
    "cat_columns = X.columns[(detected_types['categorical']) | (detected_types['low_card_int'])]"
   ]
  },
  {
   "cell_type": "code",
   "execution_count": null,
   "metadata": {},
   "outputs": [],
   "source": []
  }
 ],
 "metadata": {
  "kernelspec": {
   "display_name": "Python [conda env:skorecard_py37] *",
   "language": "python",
   "name": "conda-env-skorecard_py37-py"
  },
  "language_info": {
   "codemirror_mode": {
    "name": "ipython",
    "version": 3
   },
   "file_extension": ".py",
   "mimetype": "text/x-python",
   "name": "python",
   "nbconvert_exporter": "python",
   "pygments_lexer": "ipython3",
   "version": "3.7.7"
  }
 },
 "nbformat": 4,
 "nbformat_minor": 4
}
