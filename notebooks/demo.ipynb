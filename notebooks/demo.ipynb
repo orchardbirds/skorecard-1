{
 "cells": [
  {
   "cell_type": "code",
   "execution_count": null,
   "metadata": {},
   "outputs": [],
   "source": [
    "%load_ext autoreload\n",
    "%autoreload 2\n",
    "\n",
    "from skorecard import datasets\n",
    "\n",
    "from sklearn.compose import ColumnTransformer\n",
    "from sklearn.pipeline import Pipeline, make_pipeline\n",
    "from sklearn.preprocessing import OneHotEncoder\n",
    "from sklearn.tree import DecisionTreeClassifier\n",
    "from sklearn.metrics import roc_auc_score\n",
    "\n",
    "\n",
    "# from skorecard.linear_model import LogisticRegression\n",
    "from sklearn.linear_model import LogisticRegression\n",
    "\n",
    "# from feature_engine.discretisers import EqualWidthDiscretiser\n",
    "\n",
    "import pandas as pd\n",
    "import numpy as np"
   ]
  },
  {
   "cell_type": "code",
   "execution_count": null,
   "metadata": {},
   "outputs": [],
   "source": [
    "from skorecard import datasets\n",
    "from skorecard.bucketers import DecisionTreeBucketer, OptimalBucketer\n",
    "from skorecard.pipeline import BucketingPipeline, tweak_buckets\n",
    "from sklearn.pipeline import make_pipeline\n",
    "df = datasets.load_uci_credit_card(as_frame=True)"
   ]
  },
  {
   "cell_type": "markdown",
   "metadata": {},
   "source": [
    "### Load Data\n",
    "\n",
    "in `skorecard` there is a demo dataset with 4 features (2 categorical and 2 numerical) for demo and testing.<br>\n",
    "We'll use this one here"
   ]
  },
  {
   "cell_type": "code",
   "execution_count": null,
   "metadata": {},
   "outputs": [],
   "source": [
    "X = df.drop(columns=[\"default\"])\n",
    "y = df[\"default\"]\n",
    "num_cols = [\"LIMIT_BAL\", \"BILL_AMT1\"]\n",
    "cat_cols = [\"EDUCATION\", \"MARRIAGE\"]"
   ]
  },
  {
   "cell_type": "code",
   "execution_count": null,
   "metadata": {},
   "outputs": [],
   "source": [
    "X[num_cols+cat_cols], y"
   ]
  },
  {
   "cell_type": "markdown",
   "metadata": {},
   "source": [
    "### Quick intro to scikit-learn"
   ]
  },
  {
   "cell_type": "markdown",
   "metadata": {},
   "source": [
    "### sklearn transformers\n",
    "\n",
    "- `transfromers` are classes in sklearn whose function is to perform a transformation on the data.<br>\n",
    "- in general, a `transformer` preserves the number of rows in a dataset.<br>\n",
    "- 'transformers` are characterized by two main functions:\n",
    "    - `fit(X,y=None)` performs the necessar calculations\n",
    "    - `transfrom(X,y=None)` applies the transformation to the (new) dataset\n",
    "    \n",
    "Example: `MinMaxScaler`: this is a transformer that changes the range of the input features X to a predifined range (normally -1 to 1 or 0,1), depending on the use case"
   ]
  },
  {
   "cell_type": "code",
   "execution_count": null,
   "metadata": {},
   "outputs": [],
   "source": [
    "from sklearn.preprocessing import MinMaxScaler"
   ]
  },
  {
   "cell_type": "code",
   "execution_count": null,
   "metadata": {},
   "outputs": [],
   "source": [
    "mms = MinMaxScaler(feature_range=(0, 1)).fit(X)\n",
    "X_transformed = mms.transform(X)\n",
    "X_transformed"
   ]
  },
  {
   "cell_type": "code",
   "execution_count": null,
   "metadata": {},
   "outputs": [],
   "source": [
    "X_transformed[:,0].min(), X_transformed[:,0].max()"
   ]
  },
  {
   "cell_type": "code",
   "execution_count": null,
   "metadata": {},
   "outputs": [],
   "source": [
    "mms = MinMaxScaler(feature_range=(-2, 2)).fit(X)\n",
    "X_transformed = mms.transform(X)\n",
    "X_transformed[:,0].min(), X_transformed[:,0].max()"
   ]
  },
  {
   "cell_type": "markdown",
   "metadata": {},
   "source": [
    "## sklearn models\n",
    "\n",
    "- models are classes that contain the (ML) models and all that comes along.\n",
    "- A model has three main functions:\n",
    "    - fit(X,y) - runs the optimization for the specific algorithms\n",
    "    - predict(X) - returns the predictions for a new dataset\n",
    "    - predict_proba(X) - returns the probabilities of the fitted model\n",
    "    \n",
    "Example: `Logistic Regression`"
   ]
  },
  {
   "cell_type": "code",
   "execution_count": null,
   "metadata": {},
   "outputs": [],
   "source": [
    "from sklearn.linear_model import LogisticRegression\n",
    "\n",
    "lr = (\n",
    "    LogisticRegression()\n",
    "    .fit(X,y)\n",
    ")\n",
    "X_proba = lr.predict_proba(X)\n",
    "X_proba"
   ]
  },
  {
   "cell_type": "markdown",
   "metadata": {},
   "source": [
    "## sklearn pipeline - putting it all togeteher\n",
    "\n",
    "A pipeline is a sequential set that puts together transformers and one model.<br>\n",
    "The pipeline can have a sequence of multiple transformers and must finish with a model."
   ]
  },
  {
   "cell_type": "code",
   "execution_count": null,
   "metadata": {},
   "outputs": [],
   "source": [
    "from sklearn.pipeline import Pipeline, make_pipeline\n",
    "\n",
    "pipe = make_pipeline(\n",
    "    OptimalBucketer(variables=num_cols, max_n_bins=10, min_bin_size=0.05),\n",
    "   LogisticRegression()\n",
    ")\n",
    "\n",
    "pipe.fit(X,y)"
   ]
  },
  {
   "cell_type": "code",
   "execution_count": null,
   "metadata": {},
   "outputs": [],
   "source": [
    "X_proba = pipe.predict_proba(X)\n",
    "X_proba"
   ]
  },
  {
   "cell_type": "markdown",
   "metadata": {},
   "source": [
    "## Skorecard - and how it fits in the sklrean API"
   ]
  },
  {
   "cell_type": "markdown",
   "metadata": {},
   "source": [
    "When we consider the bucketing process, it fits in the concept of sklearn transformers.<br>\n",
    "Therefore in skorecard, we implemented a set of transformers that map the input data to a set of buckets.\n",
    "\n",
    "Example: bucket with Decision Trees"
   ]
  },
  {
   "cell_type": "code",
   "execution_count": null,
   "metadata": {},
   "outputs": [],
   "source": [
    "skorecard_pipeline = make_pipeline(\n",
    "    DecisionTreeBucketer(variables=num_cols, max_n_bins=6, min_bin_size=0.1),\n",
    "    LogisticRegression()\n",
    ")"
   ]
  },
  {
   "cell_type": "code",
   "execution_count": null,
   "metadata": {},
   "outputs": [],
   "source": [
    "skorecard_pipeline.fit(X,y)"
   ]
  },
  {
   "cell_type": "markdown",
   "metadata": {},
   "source": [
    "#### Get the details of the bucketers"
   ]
  },
  {
   "cell_type": "code",
   "execution_count": null,
   "metadata": {},
   "outputs": [],
   "source": [
    "binner = skorecard_pipeline.steps[0][1] # get the first element of the pipeline, which is our bucketer"
   ]
  },
  {
   "cell_type": "code",
   "execution_count": null,
   "metadata": {},
   "outputs": [],
   "source": [
    "binner.features_bucket_mapping_['LIMIT_BAL']"
   ]
  },
  {
   "cell_type": "code",
   "execution_count": null,
   "metadata": {},
   "outputs": [],
   "source": [
    "from skorecard.reporting import create_report"
   ]
  },
  {
   "cell_type": "code",
   "execution_count": null,
   "metadata": {},
   "outputs": [],
   "source": [
    "create_report(X,y,num_cols[0],binner, verbose = True)"
   ]
  },
  {
   "cell_type": "markdown",
   "metadata": {},
   "source": [
    "### Automatic bucketing is nice, but probably some manual tweakins is necessary."
   ]
  },
  {
   "cell_type": "code",
   "execution_count": null,
   "metadata": {},
   "outputs": [],
   "source": [
    "\n",
    "\n",
    "prebucket_pipeline = make_pipeline(DecisionTreeBucketer(variables=num_cols, max_n_bins=100, min_bin_size=0.05))\n",
    "bucket_pipeline = BucketingPipeline(make_pipeline(\n",
    "    OptimalBucketer(variables=num_cols, max_n_bins=10, min_bin_size=0.05),\n",
    "    OptimalBucketer(variables=cat_cols, max_n_bins=10, min_bin_size=0.05),\n",
    "))\n",
    "pipe = make_pipeline(prebucket_pipeline, bucket_pipeline)\n",
    "pipe.fit(X, y)\n"
   ]
  },
  {
   "cell_type": "code",
   "execution_count": null,
   "metadata": {},
   "outputs": [],
   "source": [
    "tweak_buckets(pipe, X, y)"
   ]
  }
 ],
 "metadata": {
  "kernelspec": {
   "display_name": "Python 3",
   "language": "python",
   "name": "python3"
  },
  "language_info": {
   "codemirror_mode": {
    "name": "ipython",
    "version": 3
   },
   "file_extension": ".py",
   "mimetype": "text/x-python",
   "name": "python",
   "nbconvert_exporter": "python",
   "pygments_lexer": "ipython3",
   "version": "3.6.10"
  }
 },
 "nbformat": 4,
 "nbformat_minor": 4
}
