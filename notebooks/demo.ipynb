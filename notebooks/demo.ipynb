{
 "cells": [
  {
   "cell_type": "markdown",
   "metadata": {
    "slideshow": {
     "slide_type": "slide"
    }
   },
   "source": [
    "# skorecard \n",
    "\n",
    "##### building (traditional) credit risk models in python"
   ]
  },
  {
   "cell_type": "markdown",
   "metadata": {
    "slideshow": {
     "slide_type": "slide"
    }
   },
   "source": [
    "# Traditional credit risk modelling\n",
    "\n",
    "When builing a credit risk model, the most commonly used algorithm is a Logisitic Regression, due to its simplicity and interpretability.<br>\n",
    "<br>\n",
    "A Logistic regression is a model that assumes a linear relationship between the variables (aka risk-drivers or features) and the target (the default flag). <br>\n",
    "\n",
    "    "
   ]
  },
  {
   "cell_type": "markdown",
   "metadata": {
    "slideshow": {
     "slide_type": "fragment"
    }
   },
   "source": [
    "\n",
    "- The input variables are usually bucketed (according to statistical process or business knowledge) in order to address the non-linear relationship between variables and risk drivers"
   ]
  },
  {
   "cell_type": "markdown",
   "metadata": {
    "slideshow": {
     "slide_type": "fragment"
    }
   },
   "source": [
    "\n",
    "- This generates a set of buckets:\n",
    "    - each feature value gets assigned to one bucket\n",
    "    - the buckets are used to train the model\n",
    "    - using the model output, each bucket is then assigned a score - the final model becomes a scorecard"
   ]
  },
  {
   "cell_type": "markdown",
   "metadata": {
    "slideshow": {
     "slide_type": "slide"
    }
   },
   "source": [
    "# Some practical examples in python\n",
    "\n",
    "- intro to scikit learn\n",
    "- skorecard examples with sklearn integration\n",
    "- sneak preview for the next features in the package"
   ]
  },
  {
   "cell_type": "markdown",
   "metadata": {
    "slideshow": {
     "slide_type": "slide"
    }
   },
   "source": [
    "### Load Data\n",
    "\n",
    "in `skorecard` there is a demo dataset with 4 features (2 categorical and 2 numerical) for demo and testing.<br>\n",
    "We'll use it for the demo."
   ]
  },
  {
   "cell_type": "code",
   "execution_count": 1,
   "metadata": {
    "ExecuteTime": {
     "end_time": "2020-10-14T22:09:59.938858Z",
     "start_time": "2020-10-14T22:09:59.563751Z"
    },
    "slideshow": {
     "slide_type": "slide"
    }
   },
   "outputs": [
    {
     "data": {
      "text/html": [
       "<div>\n",
       "<style scoped>\n",
       "    .dataframe tbody tr th:only-of-type {\n",
       "        vertical-align: middle;\n",
       "    }\n",
       "\n",
       "    .dataframe tbody tr th {\n",
       "        vertical-align: top;\n",
       "    }\n",
       "\n",
       "    .dataframe thead th {\n",
       "        text-align: right;\n",
       "    }\n",
       "</style>\n",
       "<table border=\"1\" class=\"dataframe\">\n",
       "  <thead>\n",
       "    <tr style=\"text-align: right;\">\n",
       "      <th></th>\n",
       "      <th>EDUCATION</th>\n",
       "      <th>MARRIAGE</th>\n",
       "      <th>LIMIT_BAL</th>\n",
       "      <th>BILL_AMT1</th>\n",
       "      <th>default</th>\n",
       "    </tr>\n",
       "  </thead>\n",
       "  <tbody>\n",
       "    <tr>\n",
       "      <th>0</th>\n",
       "      <td>1</td>\n",
       "      <td>2</td>\n",
       "      <td>400000.0</td>\n",
       "      <td>201800.0</td>\n",
       "      <td>0</td>\n",
       "    </tr>\n",
       "    <tr>\n",
       "      <th>1</th>\n",
       "      <td>2</td>\n",
       "      <td>2</td>\n",
       "      <td>80000.0</td>\n",
       "      <td>80610.0</td>\n",
       "      <td>0</td>\n",
       "    </tr>\n",
       "    <tr>\n",
       "      <th>2</th>\n",
       "      <td>1</td>\n",
       "      <td>2</td>\n",
       "      <td>500000.0</td>\n",
       "      <td>499452.0</td>\n",
       "      <td>0</td>\n",
       "    </tr>\n",
       "    <tr>\n",
       "      <th>3</th>\n",
       "      <td>1</td>\n",
       "      <td>1</td>\n",
       "      <td>140000.0</td>\n",
       "      <td>450.0</td>\n",
       "      <td>1</td>\n",
       "    </tr>\n",
       "    <tr>\n",
       "      <th>4</th>\n",
       "      <td>2</td>\n",
       "      <td>1</td>\n",
       "      <td>420000.0</td>\n",
       "      <td>56107.0</td>\n",
       "      <td>0</td>\n",
       "    </tr>\n",
       "  </tbody>\n",
       "</table>\n",
       "</div>"
      ],
      "text/plain": [
       "   EDUCATION  MARRIAGE  LIMIT_BAL  BILL_AMT1  default\n",
       "0          1         2   400000.0   201800.0        0\n",
       "1          2         2    80000.0    80610.0        0\n",
       "2          1         2   500000.0   499452.0        0\n",
       "3          1         1   140000.0      450.0        1\n",
       "4          2         1   420000.0    56107.0        0"
      ]
     },
     "execution_count": 1,
     "metadata": {},
     "output_type": "execute_result"
    }
   ],
   "source": [
    "import pandas as pd\n",
    "import numpy as np\n",
    "from skorecard import datasets\n",
    "\n",
    "df = datasets.load_uci_credit_card(as_frame=True)\n",
    "\n",
    "X = df.drop(columns=[\"default\"])\n",
    "y = df[\"default\"]\n",
    "num_cols = [\"LIMIT_BAL\", \"BILL_AMT1\"]\n",
    "cat_cols = [\"EDUCATION\", \"MARRIAGE\"]\n",
    "\n",
    "df.head()"
   ]
  },
  {
   "cell_type": "markdown",
   "metadata": {
    "slideshow": {
     "slide_type": "slide"
    }
   },
   "source": [
    "### Quick intro to scikit-learn\n",
    "\n",
    "- scikit learn (sklearn) is the package that defined the Machine Learning workflow in python.\n",
    "- scikit learn is a very extensive and complete package. In the upcoming two slides we want to introduce the concept of `transformer`, `model` and `pipeline`, as this is what 'skorecard' relates to\n"
   ]
  },
  {
   "cell_type": "markdown",
   "metadata": {
    "slideshow": {
     "slide_type": "slide"
    }
   },
   "source": [
    "### sklearn transformers\n",
    "\n",
    "- `transfromers` are classes in sklearn whose function is to perform a transformation on the data.<br>\n",
    "- in general, a `transformer` preserves the number of rows in a dataset.<br>\n",
    "- 'transformers` are characterized by two main functions:\n",
    "    - `fit(X,y=None)` performs the necessar calculations\n",
    "    - `transfrom(X,y=None)` applies the transformation to the (new) dataset\n",
    "    \n",
    "Example: `MinMaxScaler`: this is a transformer that changes the range of the input features X to a predifined range (normally -1 to 1 or 0,1), depending on the use case"
   ]
  },
  {
   "cell_type": "code",
   "execution_count": 2,
   "metadata": {
    "ExecuteTime": {
     "end_time": "2020-10-14T22:10:00.385183Z",
     "start_time": "2020-10-14T22:09:59.940864Z"
    },
    "slideshow": {
     "slide_type": "fragment"
    }
   },
   "outputs": [],
   "source": [
    "from sklearn.preprocessing import MinMaxScaler"
   ]
  },
  {
   "cell_type": "code",
   "execution_count": 3,
   "metadata": {
    "ExecuteTime": {
     "end_time": "2020-10-14T22:10:00.394370Z",
     "start_time": "2020-10-14T22:10:00.387067Z"
    },
    "slideshow": {
     "slide_type": "fragment"
    }
   },
   "outputs": [
    {
     "data": {
      "text/plain": [
       "array([[0.16666667, 0.66666667, 0.52      , 0.47324305],\n",
       "       [0.33333333, 0.66666667, 0.09333333, 0.31713133],\n",
       "       [0.16666667, 0.66666667, 0.65333333, 0.8566655 ],\n",
       "       ...,\n",
       "       [0.16666667, 0.33333333, 0.2       , 0.3153717 ],\n",
       "       [0.33333333, 0.33333333, 0.12      , 0.21329301],\n",
       "       [0.33333333, 0.33333333, 0.53333333, 0.30543744]])"
      ]
     },
     "execution_count": 3,
     "metadata": {},
     "output_type": "execute_result"
    }
   ],
   "source": [
    "mms = MinMaxScaler(feature_range=(0, 1)).fit(X)\n",
    "X_transformed = mms.transform(X)\n",
    "X_transformed"
   ]
  },
  {
   "cell_type": "code",
   "execution_count": 4,
   "metadata": {
    "ExecuteTime": {
     "end_time": "2020-10-14T22:10:00.399556Z",
     "start_time": "2020-10-14T22:10:00.396318Z"
    },
    "slideshow": {
     "slide_type": "fragment"
    }
   },
   "outputs": [
    {
     "data": {
      "text/plain": [
       "(0.0, 1.0)"
      ]
     },
     "execution_count": 4,
     "metadata": {},
     "output_type": "execute_result"
    }
   ],
   "source": [
    "X_transformed[:,0].min(), X_transformed[:,0].max()"
   ]
  },
  {
   "cell_type": "markdown",
   "metadata": {
    "slideshow": {
     "slide_type": "slide"
    }
   },
   "source": [
    "If we change the range for example, we see that the transformation is changed accordingly"
   ]
  },
  {
   "cell_type": "code",
   "execution_count": 5,
   "metadata": {
    "ExecuteTime": {
     "end_time": "2020-10-14T22:10:00.408428Z",
     "start_time": "2020-10-14T22:10:00.401256Z"
    },
    "slideshow": {
     "slide_type": "fragment"
    }
   },
   "outputs": [
    {
     "data": {
      "text/plain": [
       "(-2.0, 2.0)"
      ]
     },
     "execution_count": 5,
     "metadata": {},
     "output_type": "execute_result"
    }
   ],
   "source": [
    "mms = MinMaxScaler(feature_range=(-2, 2)).fit(X)\n",
    "X_transformed = mms.transform(X)\n",
    "X_transformed[:,0].min(), X_transformed[:,0].max()"
   ]
  },
  {
   "cell_type": "markdown",
   "metadata": {
    "slideshow": {
     "slide_type": "slide"
    }
   },
   "source": [
    "## sklearn models\n",
    "\n",
    "- models are classes that contain the (ML) models and all that comes along.\n",
    "- A model has three main functions:\n",
    "    - fit(X,y) - runs the optimization for the specific algorithms\n",
    "    - predict(X) - returns the predictions for a new dataset\n",
    "    - predict_proba(X) - returns the probabilities of the fitted model\n",
    "    \n",
    "Example: `Logistic Regression`"
   ]
  },
  {
   "cell_type": "code",
   "execution_count": 6,
   "metadata": {
    "ExecuteTime": {
     "end_time": "2020-10-14T22:10:00.512324Z",
     "start_time": "2020-10-14T22:10:00.409551Z"
    },
    "slideshow": {
     "slide_type": "fragment"
    }
   },
   "outputs": [
    {
     "data": {
      "text/plain": [
       "array([[0.93184381, 0.06815619],\n",
       "       [0.62888787, 0.37111213],\n",
       "       [0.9642941 , 0.0357059 ],\n",
       "       ...,\n",
       "       [0.74000313, 0.25999687],\n",
       "       [0.65663984, 0.34336016],\n",
       "       [0.93499249, 0.06500751]])"
      ]
     },
     "execution_count": 6,
     "metadata": {},
     "output_type": "execute_result"
    }
   ],
   "source": [
    "from sklearn.linear_model import LogisticRegression\n",
    "\n",
    "lr = (\n",
    "    LogisticRegression()\n",
    "    .fit(X,y)\n",
    ")\n",
    "X_proba = lr.predict_proba(X)\n",
    "X_proba"
   ]
  },
  {
   "cell_type": "markdown",
   "metadata": {
    "slideshow": {
     "slide_type": "slide"
    }
   },
   "source": [
    "## sklearn pipeline - putting it all togeteher\n",
    "\n",
    "A pipeline is a sequential set that puts together transformers and one model.<br>\n",
    "The pipeline can have a sequence of multiple transformers and must finish with a model."
   ]
  },
  {
   "cell_type": "code",
   "execution_count": 7,
   "metadata": {
    "ExecuteTime": {
     "end_time": "2020-10-14T22:10:00.539133Z",
     "start_time": "2020-10-14T22:10:00.513967Z"
    },
    "slideshow": {
     "slide_type": "fragment"
    }
   },
   "outputs": [
    {
     "data": {
      "text/plain": [
       "Pipeline(steps=[('minmaxscaler', MinMaxScaler()),\n",
       "                ('logisticregression', LogisticRegression())])"
      ]
     },
     "execution_count": 7,
     "metadata": {},
     "output_type": "execute_result"
    }
   ],
   "source": [
    "from sklearn.pipeline import Pipeline, make_pipeline\n",
    "\n",
    "pipe = make_pipeline(\n",
    "    MinMaxScaler(),\n",
    "   LogisticRegression()\n",
    ")\n",
    "\n",
    "pipe.fit(X,y)"
   ]
  },
  {
   "cell_type": "code",
   "execution_count": 8,
   "metadata": {
    "ExecuteTime": {
     "end_time": "2020-10-14T22:10:00.548522Z",
     "start_time": "2020-10-14T22:10:00.542664Z"
    },
    "slideshow": {
     "slide_type": "fragment"
    }
   },
   "outputs": [
    {
     "data": {
      "text/plain": [
       "array([[0.86808393, 0.13191607],\n",
       "       [0.74407574, 0.25592426],\n",
       "       [0.85396345, 0.14603655],\n",
       "       ...,\n",
       "       [0.7501432 , 0.2498568 ],\n",
       "       [0.73629437, 0.26370563],\n",
       "       [0.86798974, 0.13201026]])"
      ]
     },
     "execution_count": 8,
     "metadata": {},
     "output_type": "execute_result"
    }
   ],
   "source": [
    "X_proba = pipe.predict_proba(X)\n",
    "X_proba"
   ]
  },
  {
   "cell_type": "markdown",
   "metadata": {
    "slideshow": {
     "slide_type": "slide"
    }
   },
   "source": [
    "## Skorecard - and how it fits in the sklearn API"
   ]
  },
  {
   "cell_type": "markdown",
   "metadata": {
    "slideshow": {
     "slide_type": "fragment"
    }
   },
   "source": [
    "When we consider the bucketing process, it fits in the concept of sklearn transformers.<br>\n",
    "Therefore in skorecard, we implemented a set of transformers that map the input data to a set of buckets.\n",
    "\n",
    "Example: bucket with Decision Trees"
   ]
  },
  {
   "cell_type": "code",
   "execution_count": 9,
   "metadata": {
    "ExecuteTime": {
     "end_time": "2020-10-14T22:10:01.071810Z",
     "start_time": "2020-10-14T22:10:00.551109Z"
    },
    "slideshow": {
     "slide_type": "fragment"
    }
   },
   "outputs": [],
   "source": [
    "from skorecard.bucketers import DecisionTreeBucketer\n",
    "from sklearn.preprocessing import OneHotEncoder\n",
    "\n",
    "skorecard_pipeline = make_pipeline(\n",
    "    DecisionTreeBucketer(variables=num_cols, max_n_bins=6, min_bin_size=0.1),\n",
    "    OneHotEncoder(),\n",
    "    LogisticRegression()\n",
    ")"
   ]
  },
  {
   "cell_type": "code",
   "execution_count": 10,
   "metadata": {
    "ExecuteTime": {
     "end_time": "2020-10-14T22:10:01.133051Z",
     "start_time": "2020-10-14T22:10:01.073445Z"
    },
    "slideshow": {
     "slide_type": "fragment"
    }
   },
   "outputs": [
    {
     "data": {
      "text/plain": [
       "Pipeline(steps=[('decisiontreebucketer',\n",
       "                 DecisionTreeBucketer(max_n_bins=6, min_bin_size=0.1,\n",
       "                                      variables=['LIMIT_BAL', 'BILL_AMT1'])),\n",
       "                ('onehotencoder', OneHotEncoder()),\n",
       "                ('logisticregression', LogisticRegression())])"
      ]
     },
     "execution_count": 10,
     "metadata": {},
     "output_type": "execute_result"
    }
   ],
   "source": [
    "skorecard_pipeline.fit(X,y)"
   ]
  },
  {
   "cell_type": "markdown",
   "metadata": {
    "slideshow": {
     "slide_type": "slide"
    }
   },
   "source": [
    "## Get the details of the bucketers\n",
    "\n",
    "Generate a report of the bucketing process "
   ]
  },
  {
   "cell_type": "code",
   "execution_count": 11,
   "metadata": {
    "ExecuteTime": {
     "end_time": "2020-10-14T22:10:01.137530Z",
     "start_time": "2020-10-14T22:10:01.134708Z"
    },
    "slideshow": {
     "slide_type": "fragment"
    }
   },
   "outputs": [],
   "source": [
    "binner = skorecard_pipeline.steps[0][1] # get the first element of the pipeline, which is our bucketer\n",
    "oh_encoder = skorecard_pipeline.steps[1][1] # get the second element of the pipeline, which is the one hot encoder\n",
    "model = skorecard_pipeline.steps[2][1] # get the third element of the pipeline, which is our model"
   ]
  },
  {
   "cell_type": "code",
   "execution_count": 12,
   "metadata": {
    "ExecuteTime": {
     "end_time": "2020-10-14T22:10:01.141934Z",
     "start_time": "2020-10-14T22:10:01.138955Z"
    },
    "slideshow": {
     "slide_type": "fragment"
    }
   },
   "outputs": [
    {
     "data": {
      "text/plain": [
       "BucketMapping(feature_name='LIMIT_BAL', type='numerical', map=array([   -inf,  45000.,  55000.,  85000., 145000., 255000.,     inf]), right=False)"
      ]
     },
     "execution_count": 12,
     "metadata": {},
     "output_type": "execute_result"
    }
   ],
   "source": [
    "binner.features_bucket_mapping_['LIMIT_BAL']"
   ]
  },
  {
   "cell_type": "code",
   "execution_count": 13,
   "metadata": {
    "ExecuteTime": {
     "end_time": "2020-10-14T22:10:01.629167Z",
     "start_time": "2020-10-14T22:10:01.143250Z"
    },
    "slideshow": {
     "slide_type": "fragment"
    }
   },
   "outputs": [
    {
     "name": "stdout",
     "output_type": "stream",
     "text": [
      "IV for LIMIT_BAL = 0.1693\n"
     ]
    },
    {
     "data": {
      "text/html": [
       "<div>\n",
       "<style scoped>\n",
       "    .dataframe tbody tr th:only-of-type {\n",
       "        vertical-align: middle;\n",
       "    }\n",
       "\n",
       "    .dataframe tbody tr th {\n",
       "        vertical-align: top;\n",
       "    }\n",
       "\n",
       "    .dataframe thead th {\n",
       "        text-align: right;\n",
       "    }\n",
       "</style>\n",
       "<table border=\"1\" class=\"dataframe\">\n",
       "  <thead>\n",
       "    <tr style=\"text-align: right;\">\n",
       "      <th></th>\n",
       "      <th>Bin id</th>\n",
       "      <th>Min bin</th>\n",
       "      <th>Max bin</th>\n",
       "      <th>Count</th>\n",
       "      <th>Count (%)</th>\n",
       "      <th>Event</th>\n",
       "      <th>Non Event</th>\n",
       "      <th>Event Rate</th>\n",
       "      <th>% Event</th>\n",
       "      <th>% Non Event</th>\n",
       "      <th>WoE</th>\n",
       "      <th>IV</th>\n",
       "    </tr>\n",
       "  </thead>\n",
       "  <tbody>\n",
       "    <tr>\n",
       "      <th>0</th>\n",
       "      <td>1.0</td>\n",
       "      <td>-inf</td>\n",
       "      <td>45000.0</td>\n",
       "      <td>849</td>\n",
       "      <td>0.141500</td>\n",
       "      <td>316</td>\n",
       "      <td>533</td>\n",
       "      <td>0.372203</td>\n",
       "      <td>0.234944</td>\n",
       "      <td>0.114501</td>\n",
       "      <td>0.718724</td>\n",
       "      <td>0.086566</td>\n",
       "    </tr>\n",
       "    <tr>\n",
       "      <th>1</th>\n",
       "      <td>2.0</td>\n",
       "      <td>45000.0</td>\n",
       "      <td>55000.0</td>\n",
       "      <td>676</td>\n",
       "      <td>0.112667</td>\n",
       "      <td>158</td>\n",
       "      <td>518</td>\n",
       "      <td>0.233728</td>\n",
       "      <td>0.117472</td>\n",
       "      <td>0.111278</td>\n",
       "      <td>0.054163</td>\n",
       "      <td>0.000335</td>\n",
       "    </tr>\n",
       "    <tr>\n",
       "      <th>2</th>\n",
       "      <td>3.0</td>\n",
       "      <td>55000.0</td>\n",
       "      <td>85000.0</td>\n",
       "      <td>655</td>\n",
       "      <td>0.109167</td>\n",
       "      <td>179</td>\n",
       "      <td>476</td>\n",
       "      <td>0.273282</td>\n",
       "      <td>0.133086</td>\n",
       "      <td>0.102256</td>\n",
       "      <td>0.263493</td>\n",
       "      <td>0.008123</td>\n",
       "    </tr>\n",
       "    <tr>\n",
       "      <th>3</th>\n",
       "      <td>4.0</td>\n",
       "      <td>85000.0</td>\n",
       "      <td>145000.0</td>\n",
       "      <td>896</td>\n",
       "      <td>0.149333</td>\n",
       "      <td>219</td>\n",
       "      <td>677</td>\n",
       "      <td>0.244420</td>\n",
       "      <td>0.162825</td>\n",
       "      <td>0.145435</td>\n",
       "      <td>0.112941</td>\n",
       "      <td>0.001964</td>\n",
       "    </tr>\n",
       "    <tr>\n",
       "      <th>4</th>\n",
       "      <td>5.0</td>\n",
       "      <td>145000.0</td>\n",
       "      <td>255000.0</td>\n",
       "      <td>1561</td>\n",
       "      <td>0.260167</td>\n",
       "      <td>265</td>\n",
       "      <td>1296</td>\n",
       "      <td>0.169763</td>\n",
       "      <td>0.197026</td>\n",
       "      <td>0.278410</td>\n",
       "      <td>-0.345745</td>\n",
       "      <td>0.028138</td>\n",
       "    </tr>\n",
       "    <tr>\n",
       "      <th>5</th>\n",
       "      <td>6.0</td>\n",
       "      <td>255000.0</td>\n",
       "      <td>inf</td>\n",
       "      <td>1363</td>\n",
       "      <td>0.227167</td>\n",
       "      <td>208</td>\n",
       "      <td>1155</td>\n",
       "      <td>0.152605</td>\n",
       "      <td>0.154647</td>\n",
       "      <td>0.248120</td>\n",
       "      <td>-0.472745</td>\n",
       "      <td>0.044189</td>\n",
       "    </tr>\n",
       "  </tbody>\n",
       "</table>\n",
       "</div>"
      ],
      "text/plain": [
       "   Bin id   Min bin   Max bin  Count  Count (%)  Event  Non Event  Event Rate  \\\n",
       "0     1.0      -inf   45000.0    849   0.141500    316        533    0.372203   \n",
       "1     2.0   45000.0   55000.0    676   0.112667    158        518    0.233728   \n",
       "2     3.0   55000.0   85000.0    655   0.109167    179        476    0.273282   \n",
       "3     4.0   85000.0  145000.0    896   0.149333    219        677    0.244420   \n",
       "4     5.0  145000.0  255000.0   1561   0.260167    265       1296    0.169763   \n",
       "5     6.0  255000.0       inf   1363   0.227167    208       1155    0.152605   \n",
       "\n",
       "    % Event  % Non Event       WoE        IV  \n",
       "0  0.234944     0.114501  0.718724  0.086566  \n",
       "1  0.117472     0.111278  0.054163  0.000335  \n",
       "2  0.133086     0.102256  0.263493  0.008123  \n",
       "3  0.162825     0.145435  0.112941  0.001964  \n",
       "4  0.197026     0.278410 -0.345745  0.028138  \n",
       "5  0.154647     0.248120 -0.472745  0.044189  "
      ]
     },
     "execution_count": 13,
     "metadata": {},
     "output_type": "execute_result"
    }
   ],
   "source": [
    "from skorecard.reporting import create_report\n",
    "\n",
    "create_report(X,y,num_cols[0],binner, verbose = True)"
   ]
  },
  {
   "cell_type": "markdown",
   "metadata": {
    "ExecuteTime": {
     "end_time": "2020-10-14T21:48:05.286251Z",
     "start_time": "2020-10-14T21:48:05.282052Z"
    },
    "slideshow": {
     "slide_type": "slide"
    }
   },
   "source": [
    "### Checking the model"
   ]
  },
  {
   "cell_type": "code",
   "execution_count": 14,
   "metadata": {
    "ExecuteTime": {
     "end_time": "2020-10-14T22:10:01.634168Z",
     "start_time": "2020-10-14T22:10:01.631023Z"
    },
    "slideshow": {
     "slide_type": "fragment"
    }
   },
   "outputs": [
    {
     "data": {
      "text/plain": [
       "LogisticRegression()"
      ]
     },
     "execution_count": 14,
     "metadata": {},
     "output_type": "execute_result"
    }
   ],
   "source": [
    "model"
   ]
  },
  {
   "cell_type": "code",
   "execution_count": 15,
   "metadata": {
    "ExecuteTime": {
     "end_time": "2020-10-14T22:10:01.638188Z",
     "start_time": "2020-10-14T22:10:01.635565Z"
    },
    "slideshow": {
     "slide_type": "fragment"
    }
   },
   "outputs": [
    {
     "name": "stdout",
     "output_type": "stream",
     "text": [
      "Coefficients: [[-0.13253087  0.47937838  0.65463067  0.55480657 -0.26212038 -0.50791937\n",
      "  -0.79486294 -0.38514784  0.16334948 -0.12803591  0.34121631  0.74774612\n",
      "   0.01223482  0.19485732  0.02750463 -0.43413672 -0.55682412  0.19645489\n",
      "   0.28221057 -0.28005102 -0.05808675 -0.17239751  0.02325187]]\n",
      "\n",
      "Intercept : [-1.76410325]\n",
      "\n"
     ]
    }
   ],
   "source": [
    "print(f'Coefficients: {model.coef_}\\n')\n",
    "print(f'Intercept : {model.intercept_}\\n')"
   ]
  },
  {
   "cell_type": "markdown",
   "metadata": {
    "ExecuteTime": {
     "end_time": "2020-10-14T21:48:23.397343Z",
     "start_time": "2020-10-14T21:48:23.393350Z"
    },
    "slideshow": {
     "slide_type": "slide"
    }
   },
   "source": [
    "# Fine and coarse classing (WIP)\n",
    "\n",
    "Right now, we have shown an example where:\n",
    "- the binning is defined through one transformer, which might not be optimized\n",
    "- Ideally one would start with a lot of bins (fine classing), and then try to merge them together if they are similar enough (coarse classing)\n",
    "\n",
    "#### skorecard support both and automatic bin merging (based on statistical properties), as well as manual merging"
   ]
  },
  {
   "cell_type": "code",
   "execution_count": 16,
   "metadata": {
    "ExecuteTime": {
     "end_time": "2020-10-14T22:10:02.427495Z",
     "start_time": "2020-10-14T22:10:01.639428Z"
    },
    "slideshow": {
     "slide_type": "slide"
    }
   },
   "outputs": [
    {
     "data": {
      "text/plain": [
       "Pipeline(steps=[('optimalbucketer',\n",
       "                 OptimalBucketer(max_n_bins=6, min_bin_size=0.1,\n",
       "                                 variables=['LIMIT_BAL', 'BILL_AMT1'])),\n",
       "                ('logisticregression', LogisticRegression())])"
      ]
     },
     "execution_count": 16,
     "metadata": {},
     "output_type": "execute_result"
    }
   ],
   "source": [
    "from skorecard.bucketers import OptimalBucketer\n",
    "\n",
    "opti_skorecard_pipeline = make_pipeline(\n",
    "    OptimalBucketer(variables=num_cols, max_n_bins=6, min_bin_size=0.1),\n",
    "    LogisticRegression()\n",
    ")\n",
    "\n",
    "opti_skorecard_pipeline.fit(X,y)"
   ]
  },
  {
   "cell_type": "code",
   "execution_count": 17,
   "metadata": {
    "ExecuteTime": {
     "end_time": "2020-10-14T22:10:02.431701Z",
     "start_time": "2020-10-14T22:10:02.429260Z"
    },
    "slideshow": {
     "slide_type": "fragment"
    }
   },
   "outputs": [],
   "source": [
    "opti_binner = opti_skorecard_pipeline.steps[0][1] # get the first element of the pipeline, which is our bucketer"
   ]
  },
  {
   "cell_type": "markdown",
   "metadata": {
    "slideshow": {
     "slide_type": "slide"
    }
   },
   "source": [
    "### Sneak preview into the manual bucketing\n",
    "In order to perfrom the manual bucketing, the steps are the following:\n",
    "\n",
    "- The user defines the fine classing that is desired\n",
    "- Optionally, the user can then also run the statistical optimiziation\n",
    "- Once this is done, the whole pipeline is passed to thr `tweak_buckets` function\n",
    "- This will launch a web ui (that can run in a notebook, as well as in the browser), where the user can merge the buckets accoring to the desired logic.\n",
    "- If the statistical optimization is performed, a suggestion of the merging is presented.\n",
    "- After the buckets are adapted, the user can store the object and immediately continue with the pipeline"
   ]
  },
  {
   "cell_type": "code",
   "execution_count": 18,
   "metadata": {
    "ExecuteTime": {
     "end_time": "2020-10-14T22:10:02.876009Z",
     "start_time": "2020-10-14T22:10:02.433390Z"
    },
    "slideshow": {
     "slide_type": "slide"
    }
   },
   "outputs": [
    {
     "data": {
      "text/html": [
       "<div>\n",
       "<style scoped>\n",
       "    .dataframe tbody tr th:only-of-type {\n",
       "        vertical-align: middle;\n",
       "    }\n",
       "\n",
       "    .dataframe tbody tr th {\n",
       "        vertical-align: top;\n",
       "    }\n",
       "\n",
       "    .dataframe thead th {\n",
       "        text-align: right;\n",
       "    }\n",
       "</style>\n",
       "<table border=\"1\" class=\"dataframe\">\n",
       "  <thead>\n",
       "    <tr style=\"text-align: right;\">\n",
       "      <th></th>\n",
       "      <th>EDUCATION</th>\n",
       "      <th>MARRIAGE</th>\n",
       "      <th>LIMIT_BAL</th>\n",
       "      <th>BILL_AMT1</th>\n",
       "    </tr>\n",
       "  </thead>\n",
       "  <tbody>\n",
       "    <tr>\n",
       "      <th>0</th>\n",
       "      <td>1.0</td>\n",
       "      <td>2.0</td>\n",
       "      <td>9.0</td>\n",
       "      <td>6.0</td>\n",
       "    </tr>\n",
       "    <tr>\n",
       "      <th>1</th>\n",
       "      <td>2.0</td>\n",
       "      <td>2.0</td>\n",
       "      <td>4.0</td>\n",
       "      <td>5.0</td>\n",
       "    </tr>\n",
       "    <tr>\n",
       "      <th>2</th>\n",
       "      <td>1.0</td>\n",
       "      <td>2.0</td>\n",
       "      <td>9.0</td>\n",
       "      <td>6.0</td>\n",
       "    </tr>\n",
       "    <tr>\n",
       "      <th>3</th>\n",
       "      <td>1.0</td>\n",
       "      <td>1.0</td>\n",
       "      <td>5.0</td>\n",
       "      <td>1.0</td>\n",
       "    </tr>\n",
       "    <tr>\n",
       "      <th>4</th>\n",
       "      <td>2.0</td>\n",
       "      <td>1.0</td>\n",
       "      <td>9.0</td>\n",
       "      <td>4.0</td>\n",
       "    </tr>\n",
       "  </tbody>\n",
       "</table>\n",
       "</div>"
      ],
      "text/plain": [
       "   EDUCATION  MARRIAGE  LIMIT_BAL  BILL_AMT1\n",
       "0        1.0       2.0        9.0        6.0\n",
       "1        2.0       2.0        4.0        5.0\n",
       "2        1.0       2.0        9.0        6.0\n",
       "3        1.0       1.0        5.0        1.0\n",
       "4        2.0       1.0        9.0        4.0"
      ]
     },
     "execution_count": 18,
     "metadata": {},
     "output_type": "execute_result"
    }
   ],
   "source": [
    "from skorecard.pipeline import BucketingPipeline, tweak_buckets\n",
    "\n",
    "prebucket_pipeline = make_pipeline(DecisionTreeBucketer(variables=num_cols, max_n_bins=100, min_bin_size=0.05))\n",
    "bucket_pipeline = BucketingPipeline(make_pipeline(\n",
    "    OptimalBucketer(variables=num_cols, max_n_bins=10, min_bin_size=0.05),\n",
    "    OptimalBucketer(variables=cat_cols, max_n_bins=10, min_bin_size=0.05),\n",
    "))\n",
    "pipe = make_pipeline(prebucket_pipeline, bucket_pipeline)\n",
    "pipe.fit(X, y)\n",
    "\n",
    "pipe.transform(X).head()\n"
   ]
  },
  {
   "cell_type": "markdown",
   "metadata": {
    "slideshow": {
     "slide_type": "slide"
    }
   },
   "source": [
    "Launch a web app where the manual tweaking can be done (this is still WIP)"
   ]
  },
  {
   "cell_type": "code",
   "execution_count": 19,
   "metadata": {
    "ExecuteTime": {
     "end_time": "2020-10-14T22:10:02.943134Z",
     "start_time": "2020-10-14T22:10:02.877522Z"
    },
    "slideshow": {
     "slide_type": "fragment"
    }
   },
   "outputs": [
    {
     "name": "stdout",
     "output_type": "stream",
     "text": [
      "Dash app running on http://127.0.0.1:8050/\n"
     ]
    }
   ],
   "source": [
    "tweak_buckets(pipe, X, y)"
   ]
  },
  {
   "cell_type": "markdown",
   "metadata": {
    "slideshow": {
     "slide_type": "fragment"
    }
   },
   "source": [
    "http://127.0.0.1:8050/"
   ]
  },
  {
   "cell_type": "code",
   "execution_count": null,
   "metadata": {},
   "outputs": [],
   "source": []
  }
 ],
 "metadata": {
  "celltoolbar": "Slideshow",
  "kernelspec": {
   "display_name": "Python 3",
   "language": "python",
   "name": "python3"
  },
  "language_info": {
   "codemirror_mode": {
    "name": "ipython",
    "version": 3
   },
   "file_extension": ".py",
   "mimetype": "text/x-python",
   "name": "python",
   "nbconvert_exporter": "python",
   "pygments_lexer": "ipython3",
   "version": "3.6.10"
  },
  "latex_envs": {
   "LaTeX_envs_menu_present": true,
   "autoclose": false,
   "autocomplete": true,
   "bibliofile": "biblio.bib",
   "cite_by": "apalike",
   "current_citInitial": 1,
   "eqLabelWithNumbers": true,
   "eqNumInitial": 1,
   "hotkeys": {
    "equation": "Ctrl-E",
    "itemize": "Ctrl-I"
   },
   "labels_anchors": false,
   "latex_user_defs": false,
   "report_style_numbering": false,
   "user_envs_cfg": false
  }
 },
 "nbformat": 4,
 "nbformat_minor": 4
}
