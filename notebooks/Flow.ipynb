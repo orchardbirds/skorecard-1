{
 "cells": [
  {
   "cell_type": "code",
   "execution_count": 1,
   "metadata": {
    "tags": []
   },
   "outputs": [],
   "source": [
    "%load_ext autoreload\n",
    "%autoreload 2\n",
    "\n",
    "from skorecard import datasets\n",
    "from dabl import detect_types\n",
    "\n",
    "from sklearn.compose import ColumnTransformer\n",
    "from sklearn.pipeline import Pipeline, make_pipeline\n",
    "from sklearn.preprocessing import OneHotEncoder\n",
    "from sklearn.tree import DecisionTreeClassifier\n",
    "from sklearn.metrics import roc_auc_score\n",
    "\n",
    "from skorecard.bucketers import DecisionTreeBucketer, EqualWidthBucketer, OrdinalCategoricalBucketer\n",
    "\n",
    "# from skorecard.linear_model import LogisticRegression\n",
    "from sklearn.linear_model import LogisticRegression\n",
    "\n",
    "# from feature_engine.discretisers import EqualWidthDiscretiser\n",
    "\n",
    "import pandas as pd\n",
    "import numpy as np"
   ]
  },
  {
   "cell_type": "code",
   "execution_count": 2,
   "metadata": {},
   "outputs": [],
   "source": [
    "X, y = datasets.load_uci_credit_card(return_X_y=True)"
   ]
  },
  {
   "cell_type": "code",
   "execution_count": 3,
   "metadata": {
    "tags": []
   },
   "outputs": [
    {
     "name": "stdout",
     "output_type": "stream",
     "text": [
      "cat_columns = Index(['EDUCATION', 'MARRIAGE'], dtype='object')\n",
      "num_columns = Index(['LIMIT_BAL', 'BILL_AMT1'], dtype='object')\n"
     ]
    }
   ],
   "source": [
    "# Specify categorical and numerical columns\n",
    "# We'll autodetect using dabl.detect_types\n",
    "detected_types = detect_types(X)\n",
    "cat_columns = X.columns[(detected_types['categorical']==True) | (detected_types['low_card_int']==True)]\n",
    "num_columns = X.columns[(detected_types['continuous']==True) | (detected_types['dirty_float']==True)]\n",
    "print(f\"cat_columns = {cat_columns}\")\n",
    "print(f\"num_columns = {num_columns}\")"
   ]
  },
  {
   "cell_type": "code",
   "execution_count": 4,
   "metadata": {},
   "outputs": [
    {
     "data": {
      "text/plain": [
       "'AUC = 0.6135'"
      ]
     },
     "execution_count": 4,
     "metadata": {},
     "output_type": "execute_result"
    }
   ],
   "source": [
    "# using make pipeline\n",
    "\n",
    "bucket_pipeline = make_pipeline(\n",
    "    EqualWidthBucketer(bins=5, variables=list(num_columns)),\n",
    "    OrdinalCategoricalBucketer(variables=list(cat_columns))\n",
    ")\n",
    "\n",
    "pipeline = Pipeline([\n",
    "    ('bucketing', bucket_pipeline),\n",
    "    ('one-hot-encoding', OneHotEncoder()),\n",
    "    ('lr', LogisticRegression())\n",
    "])\n",
    "\n",
    "pipeline.fit(X, y)\n",
    "f\"AUC = {roc_auc_score(y, pipeline.predict_proba(X)[:,1]):.4f}\"\n"
   ]
  },
  {
   "cell_type": "code",
   "execution_count": 5,
   "metadata": {},
   "outputs": [
    {
     "data": {
      "text/plain": [
       "'AUC = 0.6135'"
      ]
     },
     "execution_count": 5,
     "metadata": {},
     "output_type": "execute_result"
    }
   ],
   "source": [
    "# Using a ColumnTransformer\n",
    "\n",
    "bucket_pipeline = ColumnTransformer([\n",
    "    ('categorical_preprocessing', OrdinalCategoricalBucketer(), ['EDUCATION', 'MARRIAGE']),\n",
    "    ('numerical_preprocessing', EqualWidthBucketer(bins=5), ['LIMIT_BAL','BILL_AMT1'])\n",
    "], remainder=\"passthrough\")\n",
    "\n",
    "# bucket_pipeline.fit_transform(X, y)\n",
    "\n",
    "pipeline = Pipeline([\n",
    "    ('bucketing', bucket_pipeline),\n",
    "    ('one-hot-encoding', OneHotEncoder()),\n",
    "    ('lr', LogisticRegression())\n",
    "])\n",
    "\n",
    "pipeline.fit(X, y)\n",
    "f\"AUC = {roc_auc_score(y, pipeline.predict_proba(X)[:,1]):.4f}\""
   ]
  },
  {
   "cell_type": "code",
   "execution_count": 6,
   "metadata": {},
   "outputs": [],
   "source": [
    "X_transform = bucket_pipeline.named_transformers_['categorical_preprocessing'].transform(X)"
   ]
  },
  {
   "cell_type": "code",
   "execution_count": 7,
   "metadata": {},
   "outputs": [
    {
     "data": {
      "text/html": [
       "<div>\n",
       "<style scoped>\n",
       "    .dataframe tbody tr th:only-of-type {\n",
       "        vertical-align: middle;\n",
       "    }\n",
       "\n",
       "    .dataframe tbody tr th {\n",
       "        vertical-align: top;\n",
       "    }\n",
       "\n",
       "    .dataframe thead th {\n",
       "        text-align: right;\n",
       "    }\n",
       "</style>\n",
       "<table border=\"1\" class=\"dataframe\">\n",
       "  <thead>\n",
       "    <tr style=\"text-align: right;\">\n",
       "      <th></th>\n",
       "      <th>EDUCATION</th>\n",
       "      <th>MARRIAGE</th>\n",
       "      <th>LIMIT_BAL</th>\n",
       "      <th>BILL_AMT1</th>\n",
       "    </tr>\n",
       "  </thead>\n",
       "  <tbody>\n",
       "    <tr>\n",
       "      <th>0</th>\n",
       "      <td>1</td>\n",
       "      <td>1</td>\n",
       "      <td>400000.0</td>\n",
       "      <td>201800.0</td>\n",
       "    </tr>\n",
       "    <tr>\n",
       "      <th>1</th>\n",
       "      <td>3</td>\n",
       "      <td>1</td>\n",
       "      <td>80000.0</td>\n",
       "      <td>80610.0</td>\n",
       "    </tr>\n",
       "    <tr>\n",
       "      <th>2</th>\n",
       "      <td>1</td>\n",
       "      <td>1</td>\n",
       "      <td>500000.0</td>\n",
       "      <td>499452.0</td>\n",
       "    </tr>\n",
       "    <tr>\n",
       "      <th>3</th>\n",
       "      <td>1</td>\n",
       "      <td>2</td>\n",
       "      <td>140000.0</td>\n",
       "      <td>450.0</td>\n",
       "    </tr>\n",
       "    <tr>\n",
       "      <th>4</th>\n",
       "      <td>3</td>\n",
       "      <td>2</td>\n",
       "      <td>420000.0</td>\n",
       "      <td>56107.0</td>\n",
       "    </tr>\n",
       "    <tr>\n",
       "      <th>...</th>\n",
       "      <td>...</td>\n",
       "      <td>...</td>\n",
       "      <td>...</td>\n",
       "      <td>...</td>\n",
       "    </tr>\n",
       "    <tr>\n",
       "      <th>5995</th>\n",
       "      <td>3</td>\n",
       "      <td>2</td>\n",
       "      <td>170000.0</td>\n",
       "      <td>114007.0</td>\n",
       "    </tr>\n",
       "    <tr>\n",
       "      <th>5996</th>\n",
       "      <td>3</td>\n",
       "      <td>2</td>\n",
       "      <td>160000.0</td>\n",
       "      <td>76445.0</td>\n",
       "    </tr>\n",
       "    <tr>\n",
       "      <th>5997</th>\n",
       "      <td>1</td>\n",
       "      <td>2</td>\n",
       "      <td>160000.0</td>\n",
       "      <td>79244.0</td>\n",
       "    </tr>\n",
       "    <tr>\n",
       "      <th>5998</th>\n",
       "      <td>3</td>\n",
       "      <td>2</td>\n",
       "      <td>100000.0</td>\n",
       "      <td>0.0</td>\n",
       "    </tr>\n",
       "    <tr>\n",
       "      <th>5999</th>\n",
       "      <td>3</td>\n",
       "      <td>2</td>\n",
       "      <td>410000.0</td>\n",
       "      <td>71532.0</td>\n",
       "    </tr>\n",
       "  </tbody>\n",
       "</table>\n",
       "<p>6000 rows × 4 columns</p>\n",
       "</div>"
      ],
      "text/plain": [
       "      EDUCATION  MARRIAGE  LIMIT_BAL  BILL_AMT1\n",
       "0             1         1   400000.0   201800.0\n",
       "1             3         1    80000.0    80610.0\n",
       "2             1         1   500000.0   499452.0\n",
       "3             1         2   140000.0      450.0\n",
       "4             3         2   420000.0    56107.0\n",
       "...         ...       ...        ...        ...\n",
       "5995          3         2   170000.0   114007.0\n",
       "5996          3         2   160000.0    76445.0\n",
       "5997          1         2   160000.0    79244.0\n",
       "5998          3         2   100000.0        0.0\n",
       "5999          3         2   410000.0    71532.0\n",
       "\n",
       "[6000 rows x 4 columns]"
      ]
     },
     "execution_count": 7,
     "metadata": {},
     "output_type": "execute_result"
    }
   ],
   "source": [
    "X_transform"
   ]
  },
  {
   "cell_type": "code",
   "execution_count": 8,
   "metadata": {},
   "outputs": [
    {
     "data": {
      "text/plain": [
       "OrdinalCategoricalBucketer(variables=Index(['EDUCATION', 'MARRIAGE'], dtype='object'))"
      ]
     },
     "execution_count": 8,
     "metadata": {},
     "output_type": "execute_result"
    }
   ],
   "source": [
    "bucket_pipeline.named_transformers_['categorical_preprocessing']"
   ]
  },
  {
   "cell_type": "code",
   "execution_count": 9,
   "metadata": {},
   "outputs": [
    {
     "data": {
      "text/plain": [
       "Int64Index([2, 1, 3, 5, 4, 6, 0], dtype='int64')"
      ]
     },
     "execution_count": 9,
     "metadata": {},
     "output_type": "execute_result"
    }
   ],
   "source": [
    "X['EDUCATION'].value_counts().keys()"
   ]
  },
  {
   "cell_type": "code",
   "execution_count": 10,
   "metadata": {},
   "outputs": [],
   "source": [
    "tmp = pd.DataFrame({'BUCKET': X_transform['EDUCATION'].value_counts().keys(),\n",
    "                    'NUMBER_IN_BUCKET': X_transform['EDUCATION'].value_counts().values,\n",
    "                    'PERCENTAGE_IN_BUCKET': X_transform['EDUCATION'].value_counts(normalize=True).values})"
   ]
  },
  {
   "cell_type": "code",
   "execution_count": 11,
   "metadata": {},
   "outputs": [
    {
     "data": {
      "text/html": [
       "<div>\n",
       "<style scoped>\n",
       "    .dataframe tbody tr th:only-of-type {\n",
       "        vertical-align: middle;\n",
       "    }\n",
       "\n",
       "    .dataframe tbody tr th {\n",
       "        vertical-align: top;\n",
       "    }\n",
       "\n",
       "    .dataframe thead th {\n",
       "        text-align: right;\n",
       "    }\n",
       "</style>\n",
       "<table border=\"1\" class=\"dataframe\">\n",
       "  <thead>\n",
       "    <tr style=\"text-align: right;\">\n",
       "      <th></th>\n",
       "      <th>BUCKET</th>\n",
       "      <th>NUMBER_IN_BUCKET</th>\n",
       "      <th>PERCENTAGE_IN_BUCKET</th>\n",
       "    </tr>\n",
       "  </thead>\n",
       "  <tbody>\n",
       "    <tr>\n",
       "      <th>0</th>\n",
       "      <td>3</td>\n",
       "      <td>2725</td>\n",
       "      <td>0.454167</td>\n",
       "    </tr>\n",
       "    <tr>\n",
       "      <th>1</th>\n",
       "      <td>1</td>\n",
       "      <td>2186</td>\n",
       "      <td>0.364333</td>\n",
       "    </tr>\n",
       "    <tr>\n",
       "      <th>2</th>\n",
       "      <td>2</td>\n",
       "      <td>1013</td>\n",
       "      <td>0.168833</td>\n",
       "    </tr>\n",
       "    <tr>\n",
       "      <th>3</th>\n",
       "      <td>0</td>\n",
       "      <td>76</td>\n",
       "      <td>0.012667</td>\n",
       "    </tr>\n",
       "  </tbody>\n",
       "</table>\n",
       "</div>"
      ],
      "text/plain": [
       "   BUCKET  NUMBER_IN_BUCKET  PERCENTAGE_IN_BUCKET\n",
       "0       3              2725              0.454167\n",
       "1       1              2186              0.364333\n",
       "2       2              1013              0.168833\n",
       "3       0                76              0.012667"
      ]
     },
     "execution_count": 11,
     "metadata": {},
     "output_type": "execute_result"
    }
   ],
   "source": [
    "tmp"
   ]
  },
  {
   "cell_type": "code",
   "execution_count": 12,
   "metadata": {},
   "outputs": [],
   "source": [
    "X_transform['target'] = y"
   ]
  },
  {
   "cell_type": "code",
   "execution_count": 13,
   "metadata": {},
   "outputs": [],
   "source": [
    "df = X_transform.groupby(['EDUCATION'])['target'].sum().reset_index().rename(columns={'EDUCATION': 'BUCKET',\n",
    "                                                                       'target': 'BADS'})"
   ]
  },
  {
   "cell_type": "code",
   "execution_count": 14,
   "metadata": {},
   "outputs": [],
   "source": [
    "tmp = tmp.merge(df, how='left', on='BUCKET')"
   ]
  },
  {
   "cell_type": "code",
   "execution_count": 15,
   "metadata": {},
   "outputs": [],
   "source": [
    "tmp['DEFAULT_RATE'] = tmp['BADS'] / tmp['NUMBER_IN_BUCKET'] # can we divide by 0?"
   ]
  },
  {
   "cell_type": "code",
   "execution_count": 16,
   "metadata": {},
   "outputs": [
    {
     "data": {
      "text/html": [
       "<div>\n",
       "<style scoped>\n",
       "    .dataframe tbody tr th:only-of-type {\n",
       "        vertical-align: middle;\n",
       "    }\n",
       "\n",
       "    .dataframe tbody tr th {\n",
       "        vertical-align: top;\n",
       "    }\n",
       "\n",
       "    .dataframe thead th {\n",
       "        text-align: right;\n",
       "    }\n",
       "</style>\n",
       "<table border=\"1\" class=\"dataframe\">\n",
       "  <thead>\n",
       "    <tr style=\"text-align: right;\">\n",
       "      <th></th>\n",
       "      <th>BUCKET</th>\n",
       "      <th>NUMBER_IN_BUCKET</th>\n",
       "      <th>PERCENTAGE_IN_BUCKET</th>\n",
       "      <th>BADS</th>\n",
       "      <th>DEFAULT_RATE</th>\n",
       "    </tr>\n",
       "  </thead>\n",
       "  <tbody>\n",
       "    <tr>\n",
       "      <th>0</th>\n",
       "      <td>3</td>\n",
       "      <td>2725</td>\n",
       "      <td>0.454167</td>\n",
       "      <td>688</td>\n",
       "      <td>0.252477</td>\n",
       "    </tr>\n",
       "    <tr>\n",
       "      <th>1</th>\n",
       "      <td>1</td>\n",
       "      <td>2186</td>\n",
       "      <td>0.364333</td>\n",
       "      <td>397</td>\n",
       "      <td>0.181610</td>\n",
       "    </tr>\n",
       "    <tr>\n",
       "      <th>2</th>\n",
       "      <td>2</td>\n",
       "      <td>1013</td>\n",
       "      <td>0.168833</td>\n",
       "      <td>255</td>\n",
       "      <td>0.251728</td>\n",
       "    </tr>\n",
       "    <tr>\n",
       "      <th>3</th>\n",
       "      <td>0</td>\n",
       "      <td>76</td>\n",
       "      <td>0.012667</td>\n",
       "      <td>5</td>\n",
       "      <td>0.065789</td>\n",
       "    </tr>\n",
       "  </tbody>\n",
       "</table>\n",
       "</div>"
      ],
      "text/plain": [
       "   BUCKET  NUMBER_IN_BUCKET  PERCENTAGE_IN_BUCKET  BADS  DEFAULT_RATE\n",
       "0       3              2725              0.454167   688      0.252477\n",
       "1       1              2186              0.364333   397      0.181610\n",
       "2       2              1013              0.168833   255      0.251728\n",
       "3       0                76              0.012667     5      0.065789"
      ]
     },
     "execution_count": 16,
     "metadata": {},
     "output_type": "execute_result"
    }
   ],
   "source": [
    "tmp"
   ]
  },
  {
   "cell_type": "code",
   "execution_count": 17,
   "metadata": {},
   "outputs": [],
   "source": [
    "X_transform['EDUCATION_ORIGINAL'] = X['EDUCATION']"
   ]
  },
  {
   "cell_type": "code",
   "execution_count": 21,
   "metadata": {},
   "outputs": [],
   "source": [
    "df = X_transform.groupby(['EDUCATION'])['EDUCATION_ORIGINAL'].min().reset_index().rename(columns={'EDUCATION': 'BUCKET',\n",
    "                                                                       'EDUCATION_ORIGINAL': 'MIN'})"
   ]
  },
  {
   "cell_type": "code",
   "execution_count": 22,
   "metadata": {},
   "outputs": [
    {
     "data": {
      "text/html": [
       "<div>\n",
       "<style scoped>\n",
       "    .dataframe tbody tr th:only-of-type {\n",
       "        vertical-align: middle;\n",
       "    }\n",
       "\n",
       "    .dataframe tbody tr th {\n",
       "        vertical-align: top;\n",
       "    }\n",
       "\n",
       "    .dataframe thead th {\n",
       "        text-align: right;\n",
       "    }\n",
       "</style>\n",
       "<table border=\"1\" class=\"dataframe\">\n",
       "  <thead>\n",
       "    <tr style=\"text-align: right;\">\n",
       "      <th></th>\n",
       "      <th>BUCKET</th>\n",
       "      <th>MIN</th>\n",
       "    </tr>\n",
       "  </thead>\n",
       "  <tbody>\n",
       "    <tr>\n",
       "      <th>0</th>\n",
       "      <td>0</td>\n",
       "      <td>0</td>\n",
       "    </tr>\n",
       "    <tr>\n",
       "      <th>1</th>\n",
       "      <td>1</td>\n",
       "      <td>1</td>\n",
       "    </tr>\n",
       "    <tr>\n",
       "      <th>2</th>\n",
       "      <td>2</td>\n",
       "      <td>3</td>\n",
       "    </tr>\n",
       "    <tr>\n",
       "      <th>3</th>\n",
       "      <td>3</td>\n",
       "      <td>2</td>\n",
       "    </tr>\n",
       "  </tbody>\n",
       "</table>\n",
       "</div>"
      ],
      "text/plain": [
       "   BUCKET  MIN\n",
       "0       0    0\n",
       "1       1    1\n",
       "2       2    3\n",
       "3       3    2"
      ]
     },
     "execution_count": 22,
     "metadata": {},
     "output_type": "execute_result"
    }
   ],
   "source": [
    "df"
   ]
  },
  {
   "cell_type": "code",
   "execution_count": 23,
   "metadata": {},
   "outputs": [],
   "source": [
    "tmp = tmp.merge(df, how='left', on='BUCKET')"
   ]
  },
  {
   "cell_type": "code",
   "execution_count": 24,
   "metadata": {},
   "outputs": [
    {
     "data": {
      "text/html": [
       "<div>\n",
       "<style scoped>\n",
       "    .dataframe tbody tr th:only-of-type {\n",
       "        vertical-align: middle;\n",
       "    }\n",
       "\n",
       "    .dataframe tbody tr th {\n",
       "        vertical-align: top;\n",
       "    }\n",
       "\n",
       "    .dataframe thead th {\n",
       "        text-align: right;\n",
       "    }\n",
       "</style>\n",
       "<table border=\"1\" class=\"dataframe\">\n",
       "  <thead>\n",
       "    <tr style=\"text-align: right;\">\n",
       "      <th></th>\n",
       "      <th>BUCKET</th>\n",
       "      <th>NUMBER_IN_BUCKET</th>\n",
       "      <th>PERCENTAGE_IN_BUCKET</th>\n",
       "      <th>BADS</th>\n",
       "      <th>DEFAULT_RATE</th>\n",
       "      <th>MIN</th>\n",
       "    </tr>\n",
       "  </thead>\n",
       "  <tbody>\n",
       "    <tr>\n",
       "      <th>0</th>\n",
       "      <td>3</td>\n",
       "      <td>2725</td>\n",
       "      <td>0.454167</td>\n",
       "      <td>688</td>\n",
       "      <td>0.252477</td>\n",
       "      <td>2</td>\n",
       "    </tr>\n",
       "    <tr>\n",
       "      <th>1</th>\n",
       "      <td>1</td>\n",
       "      <td>2186</td>\n",
       "      <td>0.364333</td>\n",
       "      <td>397</td>\n",
       "      <td>0.181610</td>\n",
       "      <td>1</td>\n",
       "    </tr>\n",
       "    <tr>\n",
       "      <th>2</th>\n",
       "      <td>2</td>\n",
       "      <td>1013</td>\n",
       "      <td>0.168833</td>\n",
       "      <td>255</td>\n",
       "      <td>0.251728</td>\n",
       "      <td>3</td>\n",
       "    </tr>\n",
       "    <tr>\n",
       "      <th>3</th>\n",
       "      <td>0</td>\n",
       "      <td>76</td>\n",
       "      <td>0.012667</td>\n",
       "      <td>5</td>\n",
       "      <td>0.065789</td>\n",
       "      <td>0</td>\n",
       "    </tr>\n",
       "  </tbody>\n",
       "</table>\n",
       "</div>"
      ],
      "text/plain": [
       "   BUCKET  NUMBER_IN_BUCKET  PERCENTAGE_IN_BUCKET  BADS  DEFAULT_RATE  MIN\n",
       "0       3              2725              0.454167   688      0.252477    2\n",
       "1       1              2186              0.364333   397      0.181610    1\n",
       "2       2              1013              0.168833   255      0.251728    3\n",
       "3       0                76              0.012667     5      0.065789    0"
      ]
     },
     "execution_count": 24,
     "metadata": {},
     "output_type": "execute_result"
    }
   ],
   "source": [
    "tmp"
   ]
  },
  {
   "cell_type": "code",
   "execution_count": 25,
   "metadata": {},
   "outputs": [],
   "source": [
    "df = X_transform.groupby(['EDUCATION'])['EDUCATION_ORIGINAL'].max().reset_index().rename(columns={'EDUCATION': 'BUCKET',\n",
    "                                                                       'EDUCATION_ORIGINAL': 'MAX'})"
   ]
  },
  {
   "cell_type": "code",
   "execution_count": 26,
   "metadata": {},
   "outputs": [],
   "source": [
    "tmp = tmp.merge(df, how='left', on='BUCKET')"
   ]
  },
  {
   "cell_type": "code",
   "execution_count": 27,
   "metadata": {},
   "outputs": [
    {
     "data": {
      "text/html": [
       "<div>\n",
       "<style scoped>\n",
       "    .dataframe tbody tr th:only-of-type {\n",
       "        vertical-align: middle;\n",
       "    }\n",
       "\n",
       "    .dataframe tbody tr th {\n",
       "        vertical-align: top;\n",
       "    }\n",
       "\n",
       "    .dataframe thead th {\n",
       "        text-align: right;\n",
       "    }\n",
       "</style>\n",
       "<table border=\"1\" class=\"dataframe\">\n",
       "  <thead>\n",
       "    <tr style=\"text-align: right;\">\n",
       "      <th></th>\n",
       "      <th>BUCKET</th>\n",
       "      <th>NUMBER_IN_BUCKET</th>\n",
       "      <th>PERCENTAGE_IN_BUCKET</th>\n",
       "      <th>BADS</th>\n",
       "      <th>DEFAULT_RATE</th>\n",
       "      <th>MIN</th>\n",
       "      <th>MAX</th>\n",
       "    </tr>\n",
       "  </thead>\n",
       "  <tbody>\n",
       "    <tr>\n",
       "      <th>0</th>\n",
       "      <td>3</td>\n",
       "      <td>2725</td>\n",
       "      <td>0.454167</td>\n",
       "      <td>688</td>\n",
       "      <td>0.252477</td>\n",
       "      <td>2</td>\n",
       "      <td>2</td>\n",
       "    </tr>\n",
       "    <tr>\n",
       "      <th>1</th>\n",
       "      <td>1</td>\n",
       "      <td>2186</td>\n",
       "      <td>0.364333</td>\n",
       "      <td>397</td>\n",
       "      <td>0.181610</td>\n",
       "      <td>1</td>\n",
       "      <td>1</td>\n",
       "    </tr>\n",
       "    <tr>\n",
       "      <th>2</th>\n",
       "      <td>2</td>\n",
       "      <td>1013</td>\n",
       "      <td>0.168833</td>\n",
       "      <td>255</td>\n",
       "      <td>0.251728</td>\n",
       "      <td>3</td>\n",
       "      <td>3</td>\n",
       "    </tr>\n",
       "    <tr>\n",
       "      <th>3</th>\n",
       "      <td>0</td>\n",
       "      <td>76</td>\n",
       "      <td>0.012667</td>\n",
       "      <td>5</td>\n",
       "      <td>0.065789</td>\n",
       "      <td>0</td>\n",
       "      <td>6</td>\n",
       "    </tr>\n",
       "  </tbody>\n",
       "</table>\n",
       "</div>"
      ],
      "text/plain": [
       "   BUCKET  NUMBER_IN_BUCKET  PERCENTAGE_IN_BUCKET  BADS  DEFAULT_RATE  MIN  \\\n",
       "0       3              2725              0.454167   688      0.252477    2   \n",
       "1       1              2186              0.364333   397      0.181610    1   \n",
       "2       2              1013              0.168833   255      0.251728    3   \n",
       "3       0                76              0.012667     5      0.065789    0   \n",
       "\n",
       "   MAX  \n",
       "0    2  \n",
       "1    1  \n",
       "2    3  \n",
       "3    6  "
      ]
     },
     "execution_count": 27,
     "metadata": {},
     "output_type": "execute_result"
    }
   ],
   "source": [
    "tmp"
   ]
  },
  {
   "cell_type": "code",
   "execution_count": 28,
   "metadata": {},
   "outputs": [],
   "source": [
    "df = X_transform.groupby(['EDUCATION'])['EDUCATION_ORIGINAL'].mean().reset_index().rename(columns={'EDUCATION': 'BUCKET',\n",
    "                                                                       'EDUCATION_ORIGINAL': 'MEAN'})"
   ]
  },
  {
   "cell_type": "code",
   "execution_count": 29,
   "metadata": {},
   "outputs": [],
   "source": [
    "tmp = tmp.merge(df, how='left', on='BUCKET')"
   ]
  },
  {
   "cell_type": "code",
   "execution_count": 31,
   "metadata": {},
   "outputs": [
    {
     "data": {
      "text/html": [
       "<div>\n",
       "<style scoped>\n",
       "    .dataframe tbody tr th:only-of-type {\n",
       "        vertical-align: middle;\n",
       "    }\n",
       "\n",
       "    .dataframe tbody tr th {\n",
       "        vertical-align: top;\n",
       "    }\n",
       "\n",
       "    .dataframe thead th {\n",
       "        text-align: right;\n",
       "    }\n",
       "</style>\n",
       "<table border=\"1\" class=\"dataframe\">\n",
       "  <thead>\n",
       "    <tr style=\"text-align: right;\">\n",
       "      <th></th>\n",
       "      <th>BUCKET</th>\n",
       "      <th>NUMBER_IN_BUCKET</th>\n",
       "      <th>PERCENTAGE_IN_BUCKET</th>\n",
       "      <th>BADS</th>\n",
       "      <th>DEFAULT_RATE</th>\n",
       "      <th>MIN</th>\n",
       "      <th>MAX</th>\n",
       "      <th>MEAN</th>\n",
       "    </tr>\n",
       "  </thead>\n",
       "  <tbody>\n",
       "    <tr>\n",
       "      <th>0</th>\n",
       "      <td>3</td>\n",
       "      <td>2725</td>\n",
       "      <td>0.454167</td>\n",
       "      <td>688</td>\n",
       "      <td>0.252477</td>\n",
       "      <td>2</td>\n",
       "      <td>2</td>\n",
       "      <td>2.000000</td>\n",
       "    </tr>\n",
       "    <tr>\n",
       "      <th>1</th>\n",
       "      <td>1</td>\n",
       "      <td>2186</td>\n",
       "      <td>0.364333</td>\n",
       "      <td>397</td>\n",
       "      <td>0.181610</td>\n",
       "      <td>1</td>\n",
       "      <td>1</td>\n",
       "      <td>1.000000</td>\n",
       "    </tr>\n",
       "    <tr>\n",
       "      <th>2</th>\n",
       "      <td>2</td>\n",
       "      <td>1013</td>\n",
       "      <td>0.168833</td>\n",
       "      <td>255</td>\n",
       "      <td>0.251728</td>\n",
       "      <td>3</td>\n",
       "      <td>3</td>\n",
       "      <td>3.000000</td>\n",
       "    </tr>\n",
       "    <tr>\n",
       "      <th>3</th>\n",
       "      <td>0</td>\n",
       "      <td>76</td>\n",
       "      <td>0.012667</td>\n",
       "      <td>5</td>\n",
       "      <td>0.065789</td>\n",
       "      <td>0</td>\n",
       "      <td>6</td>\n",
       "      <td>4.907895</td>\n",
       "    </tr>\n",
       "  </tbody>\n",
       "</table>\n",
       "</div>"
      ],
      "text/plain": [
       "   BUCKET  NUMBER_IN_BUCKET  PERCENTAGE_IN_BUCKET  BADS  DEFAULT_RATE  MIN  \\\n",
       "0       3              2725              0.454167   688      0.252477    2   \n",
       "1       1              2186              0.364333   397      0.181610    1   \n",
       "2       2              1013              0.168833   255      0.251728    3   \n",
       "3       0                76              0.012667     5      0.065789    0   \n",
       "\n",
       "   MAX      MEAN  \n",
       "0    2  2.000000  \n",
       "1    1  1.000000  \n",
       "2    3  3.000000  \n",
       "3    6  4.907895  "
      ]
     },
     "execution_count": 31,
     "metadata": {},
     "output_type": "execute_result"
    }
   ],
   "source": [
    "tmp"
   ]
  },
  {
   "cell_type": "code",
   "execution_count": null,
   "metadata": {},
   "outputs": [],
   "source": [
    "bucket_pipeline.named_transformers_['categorical_preprocessing']"
   ]
  },
  {
   "cell_type": "code",
   "execution_count": null,
   "metadata": {},
   "outputs": [],
   "source": [
    "def create_df(X, y, bucketer):\n",
    "    X = X.copy()\n",
    "    X_transform = bucketer.transform(X)\n",
    "    df = pd.DataFrame({'BUCKET': X_transform['EDUCATION'].value_counts().keys(),\n",
    "                    'NUMBER_IN_BUCKET': X_transform['EDUCATION'].value_counts().values,\n",
    "                    'PERCENTAGE_IN_BUCKET': X_transform['EDUCATION'].value_counts(normalize=True).values})\n",
    "    X_transform['target'] = y\n",
    "    \n",
    "    # Default Rates\n",
    "    tmp = (X_transform.groupby(['EDUCATION'])['target']\n",
    "           .sum()\n",
    "           .reset_index()\n",
    "           .rename(columns={'EDUCATION': 'BUCKET',\n",
    "                            'target': 'BADS'}))\n",
    "    \n",
    "    "
   ]
  }
 ],
 "metadata": {
  "kernelspec": {
   "display_name": "Python [conda env:skorecard_py37]",
   "language": "python",
   "name": "conda-env-skorecard_py37-py"
  },
  "language_info": {
   "codemirror_mode": {
    "name": "ipython",
    "version": 3
   },
   "file_extension": ".py",
   "mimetype": "text/x-python",
   "name": "python",
   "nbconvert_exporter": "python",
   "pygments_lexer": "ipython3",
   "version": "3.7.7"
  }
 },
 "nbformat": 4,
 "nbformat_minor": 2
}
