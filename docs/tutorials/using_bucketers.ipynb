{
 "metadata": {
  "language_info": {
   "codemirror_mode": {
    "name": "ipython",
    "version": 3
   },
   "file_extension": ".py",
   "mimetype": "text/x-python",
   "name": "python",
   "nbconvert_exporter": "python",
   "pygments_lexer": "ipython3",
   "version": "3.8.3"
  },
  "orig_nbformat": 2,
  "kernelspec": {
   "name": "python3",
   "display_name": "Python 3.8.3 64-bit ('base': conda)",
   "metadata": {
    "interpreter": {
     "hash": "61a9efb557ee20b19fda2d58cb63f9a3bf86c2530fcd43d63aa6e0adea42a5e4"
    }
   }
  }
 },
 "nbformat": 4,
 "nbformat_minor": 2,
 "cells": [
  {
   "source": [
    "# Using bucketers\n",
    "\n",
    "!!! Note \"Background knowledge\"\n",
    "\n",
    "    You might want to read up on some [scorecard development concepts](../discussion/scorecard_concepts.md) first."
   ],
   "cell_type": "markdown",
   "metadata": {}
  },
  {
   "source": [
    "An important part of developing a scorecard is the bucketing continous values into a set of of discrete buckets.\n",
    "\n",
    "## Dummy dataset\n",
    "\n",
    "Let's start first with a dummy dataset based on the [UCI credit card](https://archive.ics.uci.edu/ml/datasets/default+of+credit+card+clients) dataset."
   ],
   "cell_type": "markdown",
   "metadata": {}
  },
  {
   "cell_type": "code",
   "execution_count": 1,
   "metadata": {},
   "outputs": [
    {
     "output_type": "execute_result",
     "data": {
      "text/plain": [
       "   EDUCATION  MARRIAGE  LIMIT_BAL  BILL_AMT1\n",
       "0          1         2   400000.0   201800.0\n",
       "1          2         2    80000.0    80610.0\n",
       "2          1         2   500000.0   499452.0\n",
       "3          1         1   140000.0      450.0"
      ],
      "text/html": "<div>\n<style scoped>\n    .dataframe tbody tr th:only-of-type {\n        vertical-align: middle;\n    }\n\n    .dataframe tbody tr th {\n        vertical-align: top;\n    }\n\n    .dataframe thead th {\n        text-align: right;\n    }\n</style>\n<table border=\"1\" class=\"dataframe\">\n  <thead>\n    <tr style=\"text-align: right;\">\n      <th></th>\n      <th>EDUCATION</th>\n      <th>MARRIAGE</th>\n      <th>LIMIT_BAL</th>\n      <th>BILL_AMT1</th>\n    </tr>\n  </thead>\n  <tbody>\n    <tr>\n      <th>0</th>\n      <td>1</td>\n      <td>2</td>\n      <td>400000.0</td>\n      <td>201800.0</td>\n    </tr>\n    <tr>\n      <th>1</th>\n      <td>2</td>\n      <td>2</td>\n      <td>80000.0</td>\n      <td>80610.0</td>\n    </tr>\n    <tr>\n      <th>2</th>\n      <td>1</td>\n      <td>2</td>\n      <td>500000.0</td>\n      <td>499452.0</td>\n    </tr>\n    <tr>\n      <th>3</th>\n      <td>1</td>\n      <td>1</td>\n      <td>140000.0</td>\n      <td>450.0</td>\n    </tr>\n  </tbody>\n</table>\n</div>"
     },
     "metadata": {},
     "execution_count": 1
    }
   ],
   "source": [
    "from skorecard.datasets import load_uci_credit_card\n",
    "\n",
    "X, y = load_uci_credit_card(return_X_y=True)\n",
    "X.head(4)"
   ]
  },
  {
   "source": [
    "## A basic bucketer\n",
    "\n",
    "`skorecard` offers a [set of bucketers](../api/bucketers/OptimalBucketer.md) that have a scikit-learn compatible interface. By default they will bucket all variables into `n_bins` buckets.\n",
    "\n",
    "Some bucketers like [OptimalBucketer](../api/bucketers/OptimalBucketer.md) and [DecisionTreeBucketer](../api/bucketers/DecisionTreeBucketer.md) are supervised and can use information from `y` to find good buckets. You can control the numbers of buckets using `max_n_bins` instead of `n_bins`. "
   ],
   "cell_type": "markdown",
   "metadata": {}
  },
  {
   "cell_type": "code",
   "execution_count": 2,
   "metadata": {},
   "outputs": [
    {
     "output_type": "execute_result",
     "data": {
      "text/plain": [
       "   EDUCATION  MARRIAGE  LIMIT_BAL  BILL_AMT1\n",
       "0          0         1          9          9\n",
       "1          1         1          3          7\n",
       "2          0         1          9          9\n",
       "3          0         0          5          0"
      ],
      "text/html": "<div>\n<style scoped>\n    .dataframe tbody tr th:only-of-type {\n        vertical-align: middle;\n    }\n\n    .dataframe tbody tr th {\n        vertical-align: top;\n    }\n\n    .dataframe thead th {\n        text-align: right;\n    }\n</style>\n<table border=\"1\" class=\"dataframe\">\n  <thead>\n    <tr style=\"text-align: right;\">\n      <th></th>\n      <th>EDUCATION</th>\n      <th>MARRIAGE</th>\n      <th>LIMIT_BAL</th>\n      <th>BILL_AMT1</th>\n    </tr>\n  </thead>\n  <tbody>\n    <tr>\n      <th>0</th>\n      <td>0</td>\n      <td>1</td>\n      <td>9</td>\n      <td>9</td>\n    </tr>\n    <tr>\n      <th>1</th>\n      <td>1</td>\n      <td>1</td>\n      <td>3</td>\n      <td>7</td>\n    </tr>\n    <tr>\n      <th>2</th>\n      <td>0</td>\n      <td>1</td>\n      <td>9</td>\n      <td>9</td>\n    </tr>\n    <tr>\n      <th>3</th>\n      <td>0</td>\n      <td>0</td>\n      <td>5</td>\n      <td>0</td>\n    </tr>\n  </tbody>\n</table>\n</div>"
     },
     "metadata": {},
     "execution_count": 2
    }
   ],
   "source": [
    "from skorecard.bucketers import DecisionTreeBucketer\n",
    "\n",
    "bucketer = DecisionTreeBucketer(max_n_bins=10)\n",
    "X_transformed = bucketer.fit_transform(X, y)\n",
    "X_transformed.head(4)"
   ]
  },
  {
   "cell_type": "code",
   "execution_count": 3,
   "metadata": {},
   "outputs": [
    {
     "output_type": "execute_result",
     "data": {
      "text/plain": [
       "0    1343\n",
       "1     404\n",
       "2     574\n",
       "3     462\n",
       "4     400\n",
       "5     359\n",
       "6     857\n",
       "7     789\n",
       "8     500\n",
       "9     312\n",
       "Name: BILL_AMT1, dtype: int64"
      ]
     },
     "metadata": {},
     "execution_count": 3
    }
   ],
   "source": [
    "X_transformed['BILL_AMT1'].value_counts().sort_index()"
   ]
  },
  {
   "source": [
    "## Bucketing specific variables\n",
    "\n",
    "Instead of applying a bucketer on all features, you'll likely want to apply it only to specific features. You can use the `variables` parameter for that:"
   ],
   "cell_type": "markdown",
   "metadata": {}
  },
  {
   "cell_type": "code",
   "execution_count": 4,
   "metadata": {},
   "outputs": [
    {
     "output_type": "execute_result",
     "data": {
      "text/plain": [
       "   EDUCATION  MARRIAGE  LIMIT_BAL  BILL_AMT1\n",
       "0          1         2   400000.0          9\n",
       "1          2         2    80000.0          7\n",
       "2          1         2   500000.0          9\n",
       "3          1         1   140000.0          0"
      ],
      "text/html": "<div>\n<style scoped>\n    .dataframe tbody tr th:only-of-type {\n        vertical-align: middle;\n    }\n\n    .dataframe tbody tr th {\n        vertical-align: top;\n    }\n\n    .dataframe thead th {\n        text-align: right;\n    }\n</style>\n<table border=\"1\" class=\"dataframe\">\n  <thead>\n    <tr style=\"text-align: right;\">\n      <th></th>\n      <th>EDUCATION</th>\n      <th>MARRIAGE</th>\n      <th>LIMIT_BAL</th>\n      <th>BILL_AMT1</th>\n    </tr>\n  </thead>\n  <tbody>\n    <tr>\n      <th>0</th>\n      <td>1</td>\n      <td>2</td>\n      <td>400000.0</td>\n      <td>9</td>\n    </tr>\n    <tr>\n      <th>1</th>\n      <td>2</td>\n      <td>2</td>\n      <td>80000.0</td>\n      <td>7</td>\n    </tr>\n    <tr>\n      <th>2</th>\n      <td>1</td>\n      <td>2</td>\n      <td>500000.0</td>\n      <td>9</td>\n    </tr>\n    <tr>\n      <th>3</th>\n      <td>1</td>\n      <td>1</td>\n      <td>140000.0</td>\n      <td>0</td>\n    </tr>\n  </tbody>\n</table>\n</div>"
     },
     "metadata": {},
     "execution_count": 4
    }
   ],
   "source": [
    "bucketer = DecisionTreeBucketer(max_n_bins=10, variables=[\"BILL_AMT1\"])\n",
    "bucketer.fit_transform(X, y).head(4)"
   ]
  },
  {
   "source": [
    "`skorecard` bucketers play nicely with scikit-learn, so to use different bucketers on different features you can use a [pipeline](https://scikit-learn.org/stable/modules/generated/sklearn.pipeline.Pipeline.html)."
   ],
   "cell_type": "markdown",
   "metadata": {}
  },
  {
   "cell_type": "code",
   "execution_count": 5,
   "metadata": {},
   "outputs": [
    {
     "output_type": "execute_result",
     "data": {
      "text/plain": [
       "   EDUCATION  MARRIAGE  LIMIT_BAL  BILL_AMT1\n",
       "0          1         2          4          9\n",
       "1          2         2          2          7\n",
       "2          1         2          4          9\n",
       "3          1         1          3          1"
      ],
      "text/html": "<div>\n<style scoped>\n    .dataframe tbody tr th:only-of-type {\n        vertical-align: middle;\n    }\n\n    .dataframe tbody tr th {\n        vertical-align: top;\n    }\n\n    .dataframe thead th {\n        text-align: right;\n    }\n</style>\n<table border=\"1\" class=\"dataframe\">\n  <thead>\n    <tr style=\"text-align: right;\">\n      <th></th>\n      <th>EDUCATION</th>\n      <th>MARRIAGE</th>\n      <th>LIMIT_BAL</th>\n      <th>BILL_AMT1</th>\n    </tr>\n  </thead>\n  <tbody>\n    <tr>\n      <th>0</th>\n      <td>1</td>\n      <td>2</td>\n      <td>4</td>\n      <td>9</td>\n    </tr>\n    <tr>\n      <th>1</th>\n      <td>2</td>\n      <td>2</td>\n      <td>2</td>\n      <td>7</td>\n    </tr>\n    <tr>\n      <th>2</th>\n      <td>1</td>\n      <td>2</td>\n      <td>4</td>\n      <td>9</td>\n    </tr>\n    <tr>\n      <th>3</th>\n      <td>1</td>\n      <td>1</td>\n      <td>3</td>\n      <td>1</td>\n    </tr>\n  </tbody>\n</table>\n</div>"
     },
     "metadata": {},
     "execution_count": 5
    }
   ],
   "source": [
    "from sklearn.pipeline import make_pipeline\n",
    "from skorecard.bucketers import EqualFrequencyBucketer\n",
    "\n",
    "pipe = make_pipeline(\n",
    "    EqualFrequencyBucketer(n_bins=10, variables=[\"BILL_AMT1\"]),\n",
    "    DecisionTreeBucketer(max_n_bins=5, variables=[\"LIMIT_BAL\"])\n",
    ")\n",
    "pipe.fit_transform(X, y).head(4)"
   ]
  },
  {
   "source": [
    "## Dealing with missing values\n",
    "\n",
    "`scorecard` bucketers offer native support for missing values but will put them in a separate bucket by default. \n",
    "\n",
    "In the example below, can you can see that the single missing value is put into a new bucket '2'."
   ],
   "cell_type": "markdown",
   "metadata": {}
  },
  {
   "cell_type": "code",
   "execution_count": 6,
   "metadata": {},
   "outputs": [
    {
     "output_type": "execute_result",
     "data": {
      "text/plain": [
       "counts\n",
       "0         6\n",
       "1         2\n",
       "2         1\n",
       "dtype: int64"
      ]
     },
     "metadata": {},
     "execution_count": 6
    }
   ],
   "source": [
    "import numpy as np\n",
    "import pandas as pd\n",
    "df = pd.DataFrame({'counts': [1,2,2,1,4,2,np.nan,1,3]})\n",
    "EqualFrequencyBucketer(n_bins=2).fit_transform(df).value_counts()"
   ]
  },
  {
   "source": [
    "## Dealing with special values\n",
    "\n",
    "You might have some features with values that you need to have in a separate bucket. You can define a dictionary with the buckets you want, and pass them to the bucketer:"
   ],
   "cell_type": "markdown",
   "metadata": {}
  },
  {
   "cell_type": "code",
   "execution_count": 13,
   "metadata": {},
   "outputs": [
    {
     "output_type": "execute_result",
     "data": {
      "text/plain": [
       "4    3199\n",
       "0    2726\n",
       "2      62\n",
       "1      13\n",
       "Name: EDUCATION, dtype: int64"
      ]
     },
     "metadata": {},
     "execution_count": 13
    }
   ],
   "source": [
    "from skorecard.bucketers import EqualWidthBucketer\n",
    "\n",
    "specials = {\n",
    "    \"LIMIT_BAL\": {\"=50000\": [50000], \"in [20001,30000]\": [20000, 30000]},\n",
    "    \"EDUCATION\": {\"=High School, Graduate School\": [1,3]}\n",
    "}\n",
    "\n",
    "cols = ['LIMIT_BAL','EDUCATION']\n",
    "X_transformed = EqualWidthBucketer(n_bins=3, specials=specials, variables=cols).fit_transform(X, y)\n",
    "X_transformed['EDUCATION'].value_counts()\n"
   ]
  },
  {
   "source": [
    "## Dealing with categoricals\n",
    "\n",
    "`scorecard` bucketers assume features are numerical. Some bucketers supports categorical features as well ([OptimalBucketer](../api/bucketers/OptimalBucketer.md) and [OrdinalCategoricalBucketer](../api/bucketers/OrdinalCategoricalBucketer.md)). If you have a categorical feature, you can bucket them directly:"
   ],
   "cell_type": "markdown",
   "metadata": {}
  },
  {
   "cell_type": "code",
   "execution_count": 9,
   "metadata": {},
   "outputs": [
    {
     "output_type": "execute_result",
     "data": {
      "text/plain": [
       "0    1998\n",
       "1    3000\n",
       "2    1002\n",
       "Name: pet_ownership, dtype: int64"
      ]
     },
     "metadata": {},
     "execution_count": 9
    }
   ],
   "source": [
    "from skorecard.bucketers import OptimalBucketer\n",
    "import random\n",
    "\n",
    "# Add a categorical feature\n",
    "pets = [\"no pets\"] * 3000 + [\"cat lover\"] * 1500 + [\"dog lover\"] * 1000 + [\"rabbit\"] * 498 + [\"gold fish\"] * 2\n",
    "random.Random(42).shuffle(pets)\n",
    "X[\"pet_ownership\"] = pets\n",
    "\n",
    "bucketer = OptimalBucketer(max_n_bins=3, variables=[\"pet_ownership\"], variables_type=\"categorical\", cat_cutoff=None)\n",
    "bucketer.fit_transform(X, y)['pet_ownership'].value_counts().sort_index()"
   ]
  },
  {
   "source": [
    "??? note\n",
    "    If interested into digging into the internals of the buckets, you can access the fitted attribute\n",
    "    `features_bucket_mapping_`. For example:\n",
    "\n",
    "    ```python\n",
    "    bucketer.features_bucket_mapping_.get('pet_ownership').labels\n",
    "    # {0: 'cat lover, rabbit',\n",
    "    # 1: 'no pets',\n",
    "    # 2: 'dog lover',\n",
    "    # 3: 'gold fish',\n",
    "    # 4: 'other',\n",
    "    # 5: 'Missing'}\n",
    "    ```\n"
   ],
   "cell_type": "markdown",
   "metadata": {}
  },
  {
   "source": [
    "## Up next\n",
    "\n",
    "The bucketers are useful when you want to do same basic bucketing, but in practice using a `BucketingProcess` is much more usefull.\n"
   ],
   "cell_type": "markdown",
   "metadata": {}
  }
 ]
}