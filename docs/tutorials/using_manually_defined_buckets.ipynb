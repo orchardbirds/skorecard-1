{
 "cells": [
  {
   "cell_type": "markdown",
   "id": "76bdf403-9154-4dc6-95a9-cd46d7fc7609",
   "metadata": {},
   "source": [
    "# Manually defined buckets\n",
    "\n",
    "Skorecard allows to manually define buckets.\n",
    "\n",
    "Those can be usually loaded from a json or yaml file.\n",
    "\n",
    "Start by loading the demo data"
   ]
  },
  {
   "cell_type": "code",
   "execution_count": 1,
   "id": "9839694e-2c53-4028-b98d-b95dcc2e38ae",
   "metadata": {},
   "outputs": [
    {
     "data": {
      "text/html": [
       "<div>\n",
       "<style scoped>\n",
       "    .dataframe tbody tr th:only-of-type {\n",
       "        vertical-align: middle;\n",
       "    }\n",
       "\n",
       "    .dataframe tbody tr th {\n",
       "        vertical-align: top;\n",
       "    }\n",
       "\n",
       "    .dataframe thead th {\n",
       "        text-align: right;\n",
       "    }\n",
       "</style>\n",
       "<table border=\"1\" class=\"dataframe\">\n",
       "  <thead>\n",
       "    <tr style=\"text-align: right;\">\n",
       "      <th></th>\n",
       "      <th>EDUCATION</th>\n",
       "      <th>MARRIAGE</th>\n",
       "      <th>LIMIT_BAL</th>\n",
       "      <th>BILL_AMT1</th>\n",
       "    </tr>\n",
       "  </thead>\n",
       "  <tbody>\n",
       "    <tr>\n",
       "      <th>0</th>\n",
       "      <td>1</td>\n",
       "      <td>2</td>\n",
       "      <td>400000.0</td>\n",
       "      <td>201800.0</td>\n",
       "    </tr>\n",
       "    <tr>\n",
       "      <th>1</th>\n",
       "      <td>2</td>\n",
       "      <td>2</td>\n",
       "      <td>80000.0</td>\n",
       "      <td>80610.0</td>\n",
       "    </tr>\n",
       "    <tr>\n",
       "      <th>2</th>\n",
       "      <td>1</td>\n",
       "      <td>2</td>\n",
       "      <td>500000.0</td>\n",
       "      <td>499452.0</td>\n",
       "    </tr>\n",
       "    <tr>\n",
       "      <th>3</th>\n",
       "      <td>1</td>\n",
       "      <td>1</td>\n",
       "      <td>140000.0</td>\n",
       "      <td>450.0</td>\n",
       "    </tr>\n",
       "  </tbody>\n",
       "</table>\n",
       "</div>"
      ],
      "text/plain": [
       "   EDUCATION  MARRIAGE  LIMIT_BAL  BILL_AMT1\n",
       "0          1         2   400000.0   201800.0\n",
       "1          2         2    80000.0    80610.0\n",
       "2          1         2   500000.0   499452.0\n",
       "3          1         1   140000.0      450.0"
      ]
     },
     "execution_count": 1,
     "metadata": {},
     "output_type": "execute_result"
    }
   ],
   "source": [
    "from skorecard.datasets import load_uci_credit_card, load_credit_card\n",
    "\n",
    "X, y = load_uci_credit_card(return_X_y=True)\n",
    "\n",
    "X.head(4)"
   ]
  },
  {
   "cell_type": "markdown",
   "id": "5a8fb61c-194b-4467-bd6a-fa325bf8dc12",
   "metadata": {},
   "source": [
    "## Define the buckets\n",
    "\n",
    "Define the buckets in a python dictionary.\n",
    "\n",
    "For every feature, the following keys must be present.\n",
    "\n",
    "- `feature_name` (mandatory): must match the column name in the dataframe\n",
    "- `type` (mandatory): type of feature (categorical or numerical)\n",
    "- `missing_treatment` (optional, defaults to `separate`): define the missing treatment strategy\n",
    "- `map` (mandatory): contains the actual mapping for the bins.\n",
    "    - categorical features: expect a dictionary `{value:bin_index}`\n",
    "    - numerical features: expect a list of boundaries `{value:bin_index}`\n",
    "- `right` (optional, defaults to True): flag that indicates if to include the upper bound (True) or lower bound (False) in the bucket definition. Applicable only to numerical bucketers\n",
    "- `specials` (optional, defaults to {}): dictionary of special values\n",
    "\n"
   ]
  },
  {
   "cell_type": "code",
   "execution_count": 2,
   "id": "87f61b0c-67f6-4085-ac78-20dbdded908f",
   "metadata": {},
   "outputs": [],
   "source": [
    "bucket_maps = {\n",
    "    'EDUCATION':{\n",
    "        \"feature_name\":'EDUCATION', \n",
    "        \"type\":'categorical', \n",
    "        \"missing_treatment\":'separate', \n",
    "        \"map\":{2: 0, 1: 1, 3: 2}, \n",
    "        \"right\":True, \n",
    "        \"specials\":{} # optional field\n",
    "    },\n",
    "    'LIMIT_BAL':{\n",
    "        \"feature_name\":'LIMIT_BAL', \n",
    "        \"type\":'numerical', \n",
    "        \"missing_treatment\":'separate', \n",
    "        \"map\":[ 25000.,  55000.,  105000., 225000., 275000., 325000.], \n",
    "        \"right\":True, \n",
    "        \"specials\":{}\n",
    "    },\n",
    "    'BILL_AMT1':{\n",
    "        \"feature_name\":'BILL_AMT1', \n",
    "        \"type\":'numerical', \n",
    "        \"missing_treatment\":'separate', \n",
    "        \"map\":[  800. ,  12500 ,   50000,    77800, 195000. ],\n",
    "        \"right\":True, \n",
    "        \"specials\":{}\n",
    "    }\n",
    "}\n",
    "\n"
   ]
  },
  {
   "cell_type": "markdown",
   "id": "5ea99383-9d69-4eeb-b9dc-3f214f5ae8eb",
   "metadata": {},
   "source": [
    "Load the `UserInputBucketer` and pass the dictionary to the object"
   ]
  },
  {
   "cell_type": "code",
   "execution_count": 3,
   "id": "4c7383d1-6143-46cd-9e44-4e0de8eef18a",
   "metadata": {},
   "outputs": [],
   "source": [
    "from skorecard.bucketers import UserInputBucketer\n",
    "\n",
    "uib = UserInputBucketer(bucket_maps)"
   ]
  },
  {
   "cell_type": "markdown",
   "id": "2aef833a-4254-4d55-a528-0d5311f503ce",
   "metadata": {},
   "source": [
    "Note that because the bins are already defined, UserInputBucketer does not require a fit step."
   ]
  },
  {
   "cell_type": "code",
   "execution_count": 4,
   "id": "026a5f6b-c5a9-46ab-b47a-2b089cc501c5",
   "metadata": {},
   "outputs": [
    {
     "data": {
      "text/html": [
       "<div>\n",
       "<style scoped>\n",
       "    .dataframe tbody tr th:only-of-type {\n",
       "        vertical-align: middle;\n",
       "    }\n",
       "\n",
       "    .dataframe tbody tr th {\n",
       "        vertical-align: top;\n",
       "    }\n",
       "\n",
       "    .dataframe thead th {\n",
       "        text-align: right;\n",
       "    }\n",
       "</style>\n",
       "<table border=\"1\" class=\"dataframe\">\n",
       "  <thead>\n",
       "    <tr style=\"text-align: right;\">\n",
       "      <th></th>\n",
       "      <th>EDUCATION</th>\n",
       "      <th>MARRIAGE</th>\n",
       "      <th>LIMIT_BAL</th>\n",
       "      <th>BILL_AMT1</th>\n",
       "    </tr>\n",
       "  </thead>\n",
       "  <tbody>\n",
       "    <tr>\n",
       "      <th>0</th>\n",
       "      <td>1</td>\n",
       "      <td>2</td>\n",
       "      <td>6</td>\n",
       "      <td>5</td>\n",
       "    </tr>\n",
       "    <tr>\n",
       "      <th>1</th>\n",
       "      <td>0</td>\n",
       "      <td>2</td>\n",
       "      <td>2</td>\n",
       "      <td>4</td>\n",
       "    </tr>\n",
       "    <tr>\n",
       "      <th>2</th>\n",
       "      <td>1</td>\n",
       "      <td>2</td>\n",
       "      <td>6</td>\n",
       "      <td>5</td>\n",
       "    </tr>\n",
       "    <tr>\n",
       "      <th>3</th>\n",
       "      <td>1</td>\n",
       "      <td>1</td>\n",
       "      <td>3</td>\n",
       "      <td>0</td>\n",
       "    </tr>\n",
       "  </tbody>\n",
       "</table>\n",
       "</div>"
      ],
      "text/plain": [
       "   EDUCATION  MARRIAGE  LIMIT_BAL  BILL_AMT1\n",
       "0          1         2          6          5\n",
       "1          0         2          2          4\n",
       "2          1         2          6          5\n",
       "3          1         1          3          0"
      ]
     },
     "execution_count": 4,
     "metadata": {},
     "output_type": "execute_result"
    }
   ],
   "source": [
    "uib.transform(X).head(4)"
   ]
  }
 ],
 "metadata": {
  "kernelspec": {
   "display_name": "Python 3",
   "language": "python",
   "name": "python3"
  },
  "language_info": {
   "codemirror_mode": {
    "name": "ipython",
    "version": 3
   },
   "file_extension": ".py",
   "mimetype": "text/x-python",
   "name": "python",
   "nbconvert_exporter": "python",
   "pygments_lexer": "ipython3",
   "version": "3.8.8"
  }
 },
 "nbformat": 4,
 "nbformat_minor": 5
}
