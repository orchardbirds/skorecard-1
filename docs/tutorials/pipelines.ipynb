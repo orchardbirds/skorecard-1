{
 "cells": [
  {
   "cell_type": "markdown",
   "id": "059a4475-c243-4cea-8b1f-f2a53fe8d5de",
   "metadata": {},
   "source": [
    "# Making a skorecard pipeline\n",
    "\n",
    "A pipeline designed to solve build a scorecard follows a well defined structure\n",
    "\n",
    "1) bucketer (maps input features in indipendent buckets/categories\n",
    "    - DecisionTreeBucketer, EqualFrequencyBucketer, EqualWidthBucketer... for numerical features\n",
    "    - OrdinalCategoricalBucketer for categorical features (optional)\n",
    "    - **Bucketing processing (also known in the credit risk slang as \"Fine and Coarse Classing\")**\n",
    "    - UserInputBucketer (where the bucket\n",
    "2) encoder (encodes the categories in a way that they make sense to the classifier\n",
    "    - WoEEncoder\n",
    "    - One-Hot Encoder\n",
    "    - ...\n",
    "3) model\n",
    "    - Logisitc Regression"
   ]
  },
  {
   "cell_type": "markdown",
   "id": "15182618-61b4-415b-ae1e-90a698d9aeb2",
   "metadata": {},
   "source": [
    "First, load the demo data"
   ]
  },
  {
   "cell_type": "code",
   "execution_count": 1,
   "id": "756d4885-ffc4-4003-bb8c-d290461fb57f",
   "metadata": {},
   "outputs": [
    {
     "data": {
      "text/html": [
       "<div>\n",
       "<style scoped>\n",
       "    .dataframe tbody tr th:only-of-type {\n",
       "        vertical-align: middle;\n",
       "    }\n",
       "\n",
       "    .dataframe tbody tr th {\n",
       "        vertical-align: top;\n",
       "    }\n",
       "\n",
       "    .dataframe thead th {\n",
       "        text-align: right;\n",
       "    }\n",
       "</style>\n",
       "<table border=\"1\" class=\"dataframe\">\n",
       "  <thead>\n",
       "    <tr style=\"text-align: right;\">\n",
       "      <th></th>\n",
       "      <th>EDUCATION</th>\n",
       "      <th>MARRIAGE</th>\n",
       "      <th>LIMIT_BAL</th>\n",
       "      <th>BILL_AMT1</th>\n",
       "    </tr>\n",
       "  </thead>\n",
       "  <tbody>\n",
       "    <tr>\n",
       "      <th>0</th>\n",
       "      <td>1</td>\n",
       "      <td>2</td>\n",
       "      <td>400000.0</td>\n",
       "      <td>201800.0</td>\n",
       "    </tr>\n",
       "    <tr>\n",
       "      <th>1</th>\n",
       "      <td>2</td>\n",
       "      <td>2</td>\n",
       "      <td>80000.0</td>\n",
       "      <td>80610.0</td>\n",
       "    </tr>\n",
       "    <tr>\n",
       "      <th>2</th>\n",
       "      <td>1</td>\n",
       "      <td>2</td>\n",
       "      <td>500000.0</td>\n",
       "      <td>499452.0</td>\n",
       "    </tr>\n",
       "    <tr>\n",
       "      <th>3</th>\n",
       "      <td>1</td>\n",
       "      <td>1</td>\n",
       "      <td>140000.0</td>\n",
       "      <td>450.0</td>\n",
       "    </tr>\n",
       "  </tbody>\n",
       "</table>\n",
       "</div>"
      ],
      "text/plain": [
       "   EDUCATION  MARRIAGE  LIMIT_BAL  BILL_AMT1\n",
       "0          1         2   400000.0   201800.0\n",
       "1          2         2    80000.0    80610.0\n",
       "2          1         2   500000.0   499452.0\n",
       "3          1         1   140000.0      450.0"
      ]
     },
     "execution_count": 1,
     "metadata": {},
     "output_type": "execute_result"
    }
   ],
   "source": [
    "from skorecard.datasets import load_uci_credit_card, load_credit_card\n",
    "\n",
    "X, y = load_uci_credit_card(return_X_y=True)\n",
    "\n",
    "cat_feat = ['EDUCATION', 'MARRIAGE']\n",
    "num_feat = ['LIMIT_BAL', 'BILL_AMT1']\n",
    "\n",
    "X.head(4)"
   ]
  },
  {
   "cell_type": "markdown",
   "id": "3916f6f6-0e7a-415b-8ba7-afb36170ac78",
   "metadata": {},
   "source": [
    "# Pipelines with default bucketers\n",
    "\n",
    "Example of a complete pipeline with bucketers"
   ]
  },
  {
   "cell_type": "code",
   "execution_count": 2,
   "id": "f0a5ac91-887c-45b3-9e29-bdde35376b46",
   "metadata": {},
   "outputs": [],
   "source": [
    "from skorecard.bucketers import DecisionTreeBucketer, OrdinalCategoricalBucketer\n",
    "from skorecard.preprocessing import WoeEncoder\n",
    "from skorecard.linear_model import LogisticRegression\n",
    "from sklearn.pipeline import make_pipeline, Pipeline"
   ]
  },
  {
   "cell_type": "code",
   "execution_count": 3,
   "id": "bf20771c-3503-428e-92c3-b1cbd3de2d4f",
   "metadata": {},
   "outputs": [
    {
     "data": {
      "text/plain": [
       "array([0.12936288, 0.21996592, 0.12936288, ..., 0.14723382, 0.30415108,\n",
       "       0.20196604])"
      ]
     },
     "execution_count": 3,
     "metadata": {},
     "output_type": "execute_result"
    }
   ],
   "source": [
    "pipe = Pipeline(\n",
    "    [('Categorical-bucketer',OrdinalCategoricalBucketer(variables = cat_feat)),\n",
    "     ('Numerical-Bucketer',DecisionTreeBucketer(variables =num_feat)),\n",
    "     ('woe',WoeEncoder()),\n",
    "     ('lr',LogisticRegression())\n",
    "    ]\n",
    ")\n",
    "\n",
    "pipe.fit(X,y)\n",
    "\n",
    "pipe.predict_proba(X)[:,1]"
   ]
  },
  {
   "cell_type": "markdown",
   "id": "9f6a24f1-c268-4797-88d3-4797073827a7",
   "metadata": {},
   "source": [
    "# Make a pipeline with the manually defined buckets\n",
    "\n",
    "Let's manually define the bucket structure in a dictionary format (this can be saved and loaded from a json or yaml file)."
   ]
  },
  {
   "cell_type": "code",
   "execution_count": 4,
   "id": "b5b331ac-96b2-434a-b296-d00b8eb7eca0",
   "metadata": {},
   "outputs": [],
   "source": [
    "bucket_maps = {\n",
    "    'EDUCATION':{\n",
    "        \"feature_name\":'EDUCATION', \n",
    "        \"type\":'categorical', \n",
    "        \"missing_treatment\":'separate', \n",
    "        \"map\":{2: 0, 1: 1, 3: 2}, \n",
    "        \"right\":True, \n",
    "        \"specials\":{}\n",
    "    },\n",
    "    'LIMIT_BAL':{\n",
    "        \"feature_name\":'LIMIT_BAL', \n",
    "        \"type\":'numerical', \n",
    "        \"missing_treatment\":'separate', \n",
    "        \"map\":[ 25000.,  55000.,  105000., 225000., 275000., 325000.], \n",
    "        \"right\":True, \n",
    "        \"specials\":{}\n",
    "    },\n",
    "    'BILL_AMT1':{\n",
    "        \"feature_name\":'BILL_AMT1', \n",
    "        \"type\":'numerical', \n",
    "        \"missing_treatment\":'separate', \n",
    "        \"map\":[  800. ,  12500 ,   50000,    77800, 195000. ],\n",
    "        \"right\":True, \n",
    "        \"specials\":{}\n",
    "    }\n",
    "}\n"
   ]
  },
  {
   "cell_type": "code",
   "execution_count": 5,
   "id": "8c7ae628-fc66-4911-8398-61348e9bcd01",
   "metadata": {},
   "outputs": [
    {
     "data": {
      "text/plain": [
       "array([0.13334997, 0.25160162, 0.13334997, ..., 0.17496323, 0.31553387,\n",
       "       0.18799205])"
      ]
     },
     "execution_count": 5,
     "metadata": {},
     "output_type": "execute_result"
    }
   ],
   "source": [
    "from skorecard.bucketers import UserInputBucketer\n",
    "\n",
    "pipe = Pipeline(\n",
    "    [('User-Bucketer',UserInputBucketer(bucket_maps)),\n",
    "     ('woe',WoeEncoder()),\n",
    "     ('lr',LogisticRegression())\n",
    "    ]\n",
    ")\n",
    "\n",
    "pipe.fit(X,y)\n",
    "\n",
    "pipe.predict_proba(X)[:,1]"
   ]
  },
  {
   "cell_type": "markdown",
   "id": "9ada2cff-edc2-4d9a-bbf9-75f963191a73",
   "metadata": {},
   "source": [
    "# Make a pipeline with the bucketing process\n",
    "\n",
    "Last but not least, a bucketing process can also be integrated in a pipeline.\n",
    "\n",
    "Start by defining the bucketing process object as usual."
   ]
  },
  {
   "cell_type": "code",
   "execution_count": 6,
   "id": "98647449-41c3-46c5-843d-115b70c13462",
   "metadata": {},
   "outputs": [],
   "source": [
    "from skorecard.pipeline import BucketingProcess\n",
    "from skorecard.bucketers import OptimalBucketer, DecisionTreeBucketer, OrdinalCategoricalBucketer\n",
    "\n",
    "bucketing_process = BucketingProcess()#specials={'LIMIT_BAL': {'=400000.0' : [400000.0]}})\n",
    "bucketing_process.register_prebucketing_pipeline(\n",
    "                            DecisionTreeBucketer(variables=num_feat, max_n_bins=100, min_bin_size=0.05),\n",
    "                            OrdinalCategoricalBucketer(variables=cat_feat,tol=0)\n",
    ")\n",
    "bucketing_process.register_bucketing_pipeline(\n",
    "        OptimalBucketer(variables=num_feat, max_n_bins=4, min_bin_size=0.05),\n",
    "        OptimalBucketer(variables=cat_feat,\n",
    "                        variables_type='categorical',\n",
    "                        max_n_bins=10,\n",
    "                        min_bin_size=0.05),\n",
    ")\n",
    "\n"
   ]
  },
  {
   "cell_type": "markdown",
   "id": "b461997d-f0bf-4c95-aa85-70bfa4b0e762",
   "metadata": {},
   "source": [
    "and including it in the pipeline like any other bucketer (i.e. as first step)"
   ]
  },
  {
   "cell_type": "code",
   "execution_count": 7,
   "id": "ff615733-dfa6-4f3d-8fcf-670700e57cfd",
   "metadata": {},
   "outputs": [
    {
     "data": {
      "text/plain": [
       "array([0.11117531, 0.22957669, 0.11117531, ..., 0.16448902, 0.29547037,\n",
       "       0.1669574 ])"
      ]
     },
     "execution_count": 7,
     "metadata": {},
     "output_type": "execute_result"
    }
   ],
   "source": [
    "pipe = Pipeline(\n",
    "    [('bucketing_process',bucketing_process),\n",
    "     ('woe',WoeEncoder()),\n",
    "     ('lr',LogisticRegression())\n",
    "    ]\n",
    ")\n",
    "\n",
    "pipe.fit(X,y)\n",
    "\n",
    "pipe.predict_proba(X)[:,1]"
   ]
  }
 ],
 "metadata": {
  "kernelspec": {
   "display_name": "Python 3",
   "language": "python",
   "name": "python3"
  },
  "language_info": {
   "codemirror_mode": {
    "name": "ipython",
    "version": 3
   },
   "file_extension": ".py",
   "mimetype": "text/x-python",
   "name": "python",
   "nbconvert_exporter": "python",
   "pygments_lexer": "ipython3",
   "version": "3.8.8"
  }
 },
 "nbformat": 4,
 "nbformat_minor": 5
}
