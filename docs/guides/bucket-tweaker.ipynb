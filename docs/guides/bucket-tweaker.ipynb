{
 "metadata": {
  "language_info": {
   "codemirror_mode": {
    "name": "ipython",
    "version": 3
   },
   "file_extension": ".py",
   "mimetype": "text/x-python",
   "name": "python",
   "nbconvert_exporter": "python",
   "pygments_lexer": "ipython3",
   "version": "3.8.3-final"
  },
  "orig_nbformat": 2,
  "kernelspec": {
   "name": "python3",
   "display_name": "Python 3",
   "language": "python"
  }
 },
 "nbformat": 4,
 "nbformat_minor": 2,
 "cells": [
  {
   "cell_type": "code",
   "execution_count": 2,
   "metadata": {},
   "outputs": [
    {
     "output_type": "error",
     "ename": "ImportError",
     "evalue": "cannot import name 'make_coarse_classing_pipeline' from 'skorecard.pipeline' (/Users/ue86yw/Developer/miniconda3/lib/python3.8/site-packages/skorecard/pipeline/__init__.py)",
     "traceback": [
      "\u001b[0;31m---------------------------------------------------------------------------\u001b[0m",
      "\u001b[0;31mImportError\u001b[0m                               Traceback (most recent call last)",
      "\u001b[0;32m<ipython-input-2-58fa618e05ef>\u001b[0m in \u001b[0;36m<module>\u001b[0;34m\u001b[0m\n\u001b[1;32m      1\u001b[0m \u001b[0;32mfrom\u001b[0m \u001b[0mskorecard\u001b[0m \u001b[0;32mimport\u001b[0m \u001b[0mdatasets\u001b[0m\u001b[0;34m\u001b[0m\u001b[0;34m\u001b[0m\u001b[0m\n\u001b[1;32m      2\u001b[0m \u001b[0;32mfrom\u001b[0m \u001b[0mskorecard\u001b[0m\u001b[0;34m.\u001b[0m\u001b[0mbucketers\u001b[0m \u001b[0;32mimport\u001b[0m \u001b[0mDecisionTreeBucketer\u001b[0m\u001b[0;34m,\u001b[0m \u001b[0mOptimalBucketer\u001b[0m\u001b[0;34m\u001b[0m\u001b[0;34m\u001b[0m\u001b[0m\n\u001b[0;32m----> 3\u001b[0;31m \u001b[0;32mfrom\u001b[0m \u001b[0mskorecard\u001b[0m\u001b[0;34m.\u001b[0m\u001b[0mpipeline\u001b[0m \u001b[0;32mimport\u001b[0m \u001b[0mmake_coarse_classing_pipeline\u001b[0m\u001b[0;34m\u001b[0m\u001b[0;34m\u001b[0m\u001b[0m\n\u001b[0m\u001b[1;32m      4\u001b[0m \u001b[0;32mfrom\u001b[0m \u001b[0msklearn\u001b[0m\u001b[0;34m.\u001b[0m\u001b[0mpreprocessing\u001b[0m \u001b[0;32mimport\u001b[0m \u001b[0mOneHotEncoder\u001b[0m\u001b[0;34m\u001b[0m\u001b[0;34m\u001b[0m\u001b[0m\n\u001b[1;32m      5\u001b[0m \u001b[0;32mfrom\u001b[0m \u001b[0msklearn\u001b[0m\u001b[0;34m.\u001b[0m\u001b[0mlinear_model\u001b[0m \u001b[0;32mimport\u001b[0m \u001b[0mLogisticRegression\u001b[0m\u001b[0;34m\u001b[0m\u001b[0;34m\u001b[0m\u001b[0m\n",
      "\u001b[0;31mImportError\u001b[0m: cannot import name 'make_coarse_classing_pipeline' from 'skorecard.pipeline' (/Users/ue86yw/Developer/miniconda3/lib/python3.8/site-packages/skorecard/pipeline/__init__.py)"
     ]
    }
   ],
   "source": [
    "from skorecard import datasets\n",
    "from skorecard.bucketers import DecisionTreeBucketer, OptimalBucketer\n",
    "from skorecard.pipeline import make_bucketing_pipeline\n",
    "from sklearn.preprocessing import OneHotEncoder\n",
    "from sklearn.linear_model import LogisticRegression\n",
    "from sklearn.pipeline import make_pipeline\n",
    "\n",
    "df = datasets.load_uci_credit_card(as_frame=True)\n",
    "X = df.drop(columns=[\"default\"])\n",
    "y = df[\"default\"]\n",
    "\n",
    "num_cols = [\"LIMIT_BAL\", \"BILL_AMT1\"]\n",
    "cat_cols = [\"EDUCATION\", \"MARRIAGE\"]\n",
    "\n",
    "pipeline = make_pipeline(\n",
    "    DecisionTreeBucketer(variables=num_cols, max_n_bins=100, min_bin_size=0.05),\n",
    "    make_bucketing_pipeline(\n",
    "        OptimalBucketer(variables=num_cols, max_n_bins=10, min_bin_size=0.05),\n",
    "        OptimalBucketer(variables=cat_cols, max_n_bins=10, min_bin_size=0.05),\n",
    "    ),\n",
    "    OneHotEncoder(),\n",
    "    LogisticRegression(),\n",
    ")\n",
    "\n",
    "pipeline.fit(X, y)\n",
    "\n",
    "from skorecard.apps import BucketTweakerApp\n",
    "tweaker = BucketTweakerApp(pipeline, X, y)\n",
    "\n",
    "# Three modes to try: ['inline','external', 'jupyterlab']\n",
    "# https://medium.com/plotly/introducing-jupyterdash-811f1f57c02e\n",
    "tweaker.run_server(mode='inline')\n",
    "# tweaker.stop_server()"
   ]
  },
  {
   "cell_type": "code",
   "execution_count": null,
   "metadata": {},
   "outputs": [],
   "source": []
  }
 ]
}