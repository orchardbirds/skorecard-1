{
 "metadata": {
  "language_info": {
   "codemirror_mode": {
    "name": "ipython",
    "version": 3
   },
   "file_extension": ".py",
   "mimetype": "text/x-python",
   "name": "python",
   "nbconvert_exporter": "python",
   "pygments_lexer": "ipython3",
   "version": "3.8.3-final"
  },
  "orig_nbformat": 2,
  "kernelspec": {
   "name": "python3",
   "display_name": "Python 3"
  }
 },
 "nbformat": 4,
 "nbformat_minor": 2,
 "cells": [
  {
   "cell_type": "code",
   "execution_count": 2,
   "metadata": {},
   "outputs": [
    {
     "output_type": "display_data",
     "data": {
      "text/plain": "<IPython.lib.display.IFrame at 0x7fc752a54fd0>",
      "text/html": "\n        <iframe\n            width=\"100%\"\n            height=\"650\"\n            src=\"http://127.0.0.1:8050/\"\n            frameborder=\"0\"\n            allowfullscreen\n        ></iframe>\n        "
     },
     "metadata": {}
    }
   ],
   "source": [
    "from skorecard import datasets\n",
    "from skorecard.bucketers import DecisionTreeBucketer, OptimalBucketer\n",
    "from skorecard.pipeline import make_coarse_classing_pipeline\n",
    "from sklearn.preprocessing import OneHotEncoder\n",
    "from sklearn.linear_model import LogisticRegression\n",
    "from sklearn.pipeline import make_pipeline\n",
    "\n",
    "df = datasets.load_uci_credit_card(as_frame=True)\n",
    "X = df.drop(columns=[\"default\"])\n",
    "y = df[\"default\"]\n",
    "\n",
    "num_cols = [\"LIMIT_BAL\", \"BILL_AMT1\"]\n",
    "cat_cols = [\"EDUCATION\", \"MARRIAGE\"]\n",
    "\n",
    "pipeline = make_pipeline(\n",
    "    DecisionTreeBucketer(variables=num_cols, max_n_bins=100, min_bin_size=0.05),\n",
    "    make_coarse_classing_pipeline(\n",
    "        OptimalBucketer(variables=num_cols, max_n_bins=10, min_bin_size=0.05),\n",
    "        OptimalBucketer(variables=cat_cols, max_n_bins=10, min_bin_size=0.05),\n",
    "    ),\n",
    "    OneHotEncoder(),\n",
    "    LogisticRegression(),\n",
    ")\n",
    "\n",
    "pipeline.fit(X, y)\n",
    "\n",
    "from skorecard.apps import BucketTweakerApp\n",
    "tweaker = BucketTweakerApp(pipeline, X, y)\n",
    "\n",
    "# Three modes to try: ['inline','external', 'jupyterlab']\n",
    "# https://medium.com/plotly/introducing-jupyterdash-811f1f57c02e\n",
    "tweaker.run_server(mode='inline')\n",
    "tweaker.stop_server()"
   ]
  },
  {
   "cell_type": "code",
   "execution_count": null,
   "metadata": {},
   "outputs": [],
   "source": []
  }
 ]
}