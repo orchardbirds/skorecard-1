{
 "cells": [
  {
   "cell_type": "code",
   "execution_count": 1,
   "metadata": {},
   "outputs": [],
   "source": [
    "%load_ext autoreload\n",
    "%autoreload 2"
   ]
  },
  {
   "cell_type": "code",
   "execution_count": 2,
   "metadata": {},
   "outputs": [],
   "source": [
    "import numpy as np\n",
    "import pandas as pd\n",
    "from skorecard.bucket_mapping import BucketMapping\n"
   ]
  },
  {
   "cell_type": "code",
   "execution_count": 3,
   "metadata": {},
   "outputs": [],
   "source": [
    "# Limited map with NA's\n",
    "x = [\"car\", \"motorcycle\", \"boat\", \"truck\", \"truck\", np.nan]\n",
    "bucket = BucketMapping(\"feature1\", \"categorical\", map={\"car\": 0, \"boat\": 0},  specials={\"special\": [\"truck\"]})"
   ]
  },
  {
   "cell_type": "code",
   "execution_count": 4,
   "metadata": {},
   "outputs": [
    {
     "data": {
      "text/plain": [
       "0    0\n",
       "1    1\n",
       "2    0\n",
       "3    2\n",
       "4    2\n",
       "5    3\n",
       "dtype: int64"
      ]
     },
     "execution_count": 4,
     "metadata": {},
     "output_type": "execute_result"
    }
   ],
   "source": [
    "bins = bucket.transform(x)\n",
    "bins"
   ]
  },
  {
   "cell_type": "code",
   "execution_count": 5,
   "metadata": {},
   "outputs": [
    {
     "data": {
      "text/plain": [
       "{0: ['boat', 'car'], 1: 'other', 2: 'special', 3: 'Missing'}"
      ]
     },
     "execution_count": 5,
     "metadata": {},
     "output_type": "execute_result"
    }
   ],
   "source": [
    "remap = {k:v for k,v in enumerate(bucket.labels)}\n",
    "remap"
   ]
  },
  {
   "cell_type": "code",
   "execution_count": 6,
   "metadata": {},
   "outputs": [
    {
     "data": {
      "text/plain": [
       "0    [boat, car]\n",
       "1          other\n",
       "2    [boat, car]\n",
       "3        special\n",
       "4        special\n",
       "5        Missing\n",
       "dtype: object"
      ]
     },
     "execution_count": 6,
     "metadata": {},
     "output_type": "execute_result"
    }
   ],
   "source": [
    "bins.map(remap)"
   ]
  },
  {
   "cell_type": "code",
   "execution_count": 7,
   "metadata": {},
   "outputs": [
    {
     "data": {
      "text/plain": [
       "array([0, 0, 3, 0, 1, 2, 3, 4])"
      ]
     },
     "execution_count": 7,
     "metadata": {},
     "output_type": "execute_result"
    }
   ],
   "source": [
    "x = [0, 1, 2, 3, 4, 5, 2, np.nan]\n",
    "bucket = BucketMapping(\"feature1\", \"numerical\", map=[3, 4], specials={\"special\": [2]})\n",
    "bins = bucket.transform(x)\n",
    "bins"
   ]
  },
  {
   "cell_type": "code",
   "execution_count": 8,
   "metadata": {},
   "outputs": [
    {
     "data": {
      "text/plain": [
       "{0: '(-inf, 3.0]',\n",
       " 1: '(3.0, 4.0]',\n",
       " 2: '(4.0, inf]',\n",
       " 3: 'special',\n",
       " 4: 'Missing'}"
      ]
     },
     "execution_count": 8,
     "metadata": {},
     "output_type": "execute_result"
    }
   ],
   "source": [
    "remap = {k:v for k,v in enumerate(bucket.labels)}\n",
    "remap"
   ]
  },
  {
   "cell_type": "code",
   "execution_count": 9,
   "metadata": {},
   "outputs": [
    {
     "data": {
      "text/plain": [
       "0    (-inf, 3.0]\n",
       "1    (-inf, 3.0]\n",
       "2        special\n",
       "3    (-inf, 3.0]\n",
       "4     (3.0, 4.0]\n",
       "5     (4.0, inf]\n",
       "6        special\n",
       "7        Missing\n",
       "dtype: object"
      ]
     },
     "execution_count": 9,
     "metadata": {},
     "output_type": "execute_result"
    }
   ],
   "source": [
    "pd.Series(bins).map(remap)"
   ]
  },
  {
   "cell_type": "markdown",
   "metadata": {},
   "source": [
    "# Code testing part"
   ]
  },
  {
   "cell_type": "markdown",
   "metadata": {},
   "source": [
    "### Use case"
   ]
  },
  {
   "cell_type": "markdown",
   "metadata": {},
   "source": [
    "# Run the tests"
   ]
  },
  {
   "cell_type": "code",
   "execution_count": 10,
   "metadata": {},
   "outputs": [],
   "source": [
    "import pytest"
   ]
  },
  {
   "cell_type": "code",
   "execution_count": 31,
   "metadata": {},
   "outputs": [],
   "source": [
    "from skorecard.datasets import load_uci_credit_card\n",
    "\n",
    "df = load_uci_credit_card(as_frame=True)"
   ]
  },
  {
   "cell_type": "code",
   "execution_count": 80,
   "metadata": {},
   "outputs": [
    {
     "data": {
      "text/plain": [
       "OrdinalCategoricalBucketer(encoding_method='ordered', specials={'ed 0': [1]},\n",
       "                           tol=0.03, variables=['EDUCATION'])"
      ]
     },
     "execution_count": 80,
     "metadata": {},
     "output_type": "execute_result"
    }
   ],
   "source": [
    "from skorecard.bucketers import OrdinalCategoricalBucketer, OptimalBucketer\n",
    "\n",
    "X = df[[\"EDUCATION\"]]\n",
    "y = df[\"default\"]\n",
    "\n",
    "ocb = OrdinalCategoricalBucketer(tol=0.03, variables=[\"EDUCATION\"], encoding_method=\"ordered\", specials = {\"ed 0\":[1]})\n",
    "ocb.fit(X, y)"
   ]
  },
  {
   "cell_type": "code",
   "execution_count": 81,
   "metadata": {},
   "outputs": [
    {
     "data": {
      "text/html": [
       "<div>\n",
       "<style scoped>\n",
       "    .dataframe tbody tr th:only-of-type {\n",
       "        vertical-align: middle;\n",
       "    }\n",
       "\n",
       "    .dataframe tbody tr th {\n",
       "        vertical-align: top;\n",
       "    }\n",
       "\n",
       "    .dataframe thead th {\n",
       "        text-align: right;\n",
       "    }\n",
       "</style>\n",
       "<table border=\"1\" class=\"dataframe\">\n",
       "  <thead>\n",
       "    <tr style=\"text-align: right;\">\n",
       "      <th></th>\n",
       "      <th>EDUCATION</th>\n",
       "    </tr>\n",
       "  </thead>\n",
       "  <tbody>\n",
       "    <tr>\n",
       "      <th>0</th>\n",
       "      <td>1</td>\n",
       "    </tr>\n",
       "    <tr>\n",
       "      <th>1</th>\n",
       "      <td>2</td>\n",
       "    </tr>\n",
       "    <tr>\n",
       "      <th>2</th>\n",
       "      <td>1</td>\n",
       "    </tr>\n",
       "    <tr>\n",
       "      <th>3</th>\n",
       "      <td>1</td>\n",
       "    </tr>\n",
       "    <tr>\n",
       "      <th>4</th>\n",
       "      <td>2</td>\n",
       "    </tr>\n",
       "    <tr>\n",
       "      <th>...</th>\n",
       "      <td>...</td>\n",
       "    </tr>\n",
       "    <tr>\n",
       "      <th>5995</th>\n",
       "      <td>2</td>\n",
       "    </tr>\n",
       "    <tr>\n",
       "      <th>5996</th>\n",
       "      <td>2</td>\n",
       "    </tr>\n",
       "    <tr>\n",
       "      <th>5997</th>\n",
       "      <td>1</td>\n",
       "    </tr>\n",
       "    <tr>\n",
       "      <th>5998</th>\n",
       "      <td>2</td>\n",
       "    </tr>\n",
       "    <tr>\n",
       "      <th>5999</th>\n",
       "      <td>2</td>\n",
       "    </tr>\n",
       "  </tbody>\n",
       "</table>\n",
       "<p>6000 rows × 1 columns</p>\n",
       "</div>"
      ],
      "text/plain": [
       "      EDUCATION\n",
       "0             1\n",
       "1             2\n",
       "2             1\n",
       "3             1\n",
       "4             2\n",
       "...         ...\n",
       "5995          2\n",
       "5996          2\n",
       "5997          1\n",
       "5998          2\n",
       "5999          2\n",
       "\n",
       "[6000 rows x 1 columns]"
      ]
     },
     "execution_count": 81,
     "metadata": {},
     "output_type": "execute_result"
    }
   ],
   "source": [
    "X"
   ]
  },
  {
   "cell_type": "code",
   "execution_count": 82,
   "metadata": {},
   "outputs": [
    {
     "data": {
      "text/plain": [
       "OptimalBucketer(specials={'special_one': [0]}, variables=['EDUCATION'],\n",
       "                variables_type='categorical')"
      ]
     },
     "execution_count": 82,
     "metadata": {},
     "output_type": "execute_result"
    }
   ],
   "source": [
    "X = df[[\"LIMIT_BAL\", \"BILL_AMT1\", \"EDUCATION\"]]\n",
    "y = df[\"default\"].values\n",
    "\n",
    "obt = OptimalBucketer(variables=[\"EDUCATION\"], variables_type=\"categorical\", \n",
    "                      specials ={\"special_one\":[0]}\n",
    "                     )\n",
    "obt.fit(X, y)"
   ]
  },
  {
   "cell_type": "code",
   "execution_count": 83,
   "metadata": {},
   "outputs": [
    {
     "data": {
      "text/plain": [
       "{1: 0, 3: 1, 2: 2, 5: 3, 4: 3, 6: 3, 0: 3}"
      ]
     },
     "execution_count": 83,
     "metadata": {},
     "output_type": "execute_result"
    }
   ],
   "source": [
    "obt.features_bucket_mapping_[\"EDUCATION\"].map"
   ]
  },
  {
   "cell_type": "code",
   "execution_count": 87,
   "metadata": {},
   "outputs": [
    {
     "data": {
      "text/plain": [
       "1"
      ]
     },
     "execution_count": 87,
     "metadata": {},
     "output_type": "execute_result"
    }
   ],
   "source": [
    "obt.transform(X)['EDUCATION'][X['EDUCATION']==0].shape[0]"
   ]
  },
  {
   "cell_type": "code",
   "execution_count": 85,
   "metadata": {},
   "outputs": [
    {
     "data": {
      "text/plain": [
       "2    2725\n",
       "1    2186\n",
       "3    1013\n",
       "5      51\n",
       "4      13\n",
       "6      11\n",
       "0       1\n",
       "Name: EDUCATION, dtype: int64"
      ]
     },
     "execution_count": 85,
     "metadata": {},
     "output_type": "execute_result"
    }
   ],
   "source": [
    "X['EDUCATION'].value_counts()"
   ]
  },
  {
   "cell_type": "code",
   "execution_count": 79,
   "metadata": {},
   "outputs": [
    {
     "data": {
      "text/plain": [
       "{1: 0, 3: 1, 2: 2, 5: 3, 4: 3, 6: 3, 0: 3}"
      ]
     },
     "execution_count": 79,
     "metadata": {},
     "output_type": "execute_result"
    }
   ],
   "source": [
    "obt.features_bucket_mapping_[\"EDUCATION\"].map"
   ]
  },
  {
   "cell_type": "code",
   "execution_count": 39,
   "metadata": {},
   "outputs": [
    {
     "data": {
      "text/plain": [
       "BucketMapping(feature_name='EDUCATION', type='categorical', map={1: 0, 3: 1, 2: 2}, right=True, specials={'ed 0': [0]}, labels=[[1], [3], [2], 'other', 'ed 0'])"
      ]
     },
     "execution_count": 39,
     "metadata": {},
     "output_type": "execute_result"
    }
   ],
   "source": [
    "ocb.features_bucket_mapping_[\"EDUCATION\"]"
   ]
  },
  {
   "cell_type": "code",
   "execution_count": null,
   "metadata": {},
   "outputs": [],
   "source": [
    "import pytest\n",
    "import numpy as np\n",
    "import pandas as pd\n",
    "\n",
    "from sklearn.pipeline import make_pipeline\n",
    "from sklearn.exceptions import NotFittedError\n",
    "from sklearn.preprocessing import StandardScaler\n",
    "from sklearn.compose import ColumnTransformer\n",
    "\n",
    "from skorecard.bucketers import (\n",
    "    EqualWidthBucketer,\n",
    "    EqualFrequencyBucketer,\n",
    "    OrdinalCategoricalBucketer,\n",
    "    DecisionTreeBucketer,\n",
    "    OptimalBucketer,\n",
    ")\n",
    "from skorecard.pipeline import get_features_bucket_mapping, KeepPandas, make_coarse_classing_pipeline\n",
    "from skorecard.bucket_mapping import BucketMapping\n",
    "\n",
    "from skorecard.bucketers import OptimalBucketer\n",
    "\n",
    "y = df[\"default\"].values\n",
    "X = df.drop(columns=[\"default\"])\n",
    "\n",
    "nested_pipeline = make_pipeline(\n",
    "    make_pipeline(EqualWidthBucketer(bins=5, variables=[\"LIMIT_BAL\", \"BILL_AMT1\"])),\n",
    "    OrdinalCategoricalBucketer(variables=[\"EDUCATION\", \"MARRIAGE\"]),\n",
    ")\n",
    "\n",
    "with pytest.raises(NotFittedError):\n",
    "    get_features_bucket_mapping(nested_pipeline)\n",
    "\n",
    "nested_pipeline.fit(X, y)\n",
    "bm = get_features_bucket_mapping(nested_pipeline)\n"
   ]
  },
  {
   "cell_type": "code",
   "execution_count": null,
   "metadata": {},
   "outputs": [],
   "source": [
    "bm.get(\"EDUCATION\")"
   ]
  },
  {
   "cell_type": "code",
   "execution_count": null,
   "metadata": {},
   "outputs": [],
   "source": [
    "assert bm.get(\"EDUCATION\") == BucketMapping(\n",
    "    feature_name=\"EDUCATION\", type=\"categorical\", map={2: 1, 1: 2, 3: 3}, right=True\n",
    ")"
   ]
  },
  {
   "cell_type": "code",
   "execution_count": null,
   "metadata": {},
   "outputs": [],
   "source": [
    "obt.features_bucket_mapping_.get(\"EDUCATION\")"
   ]
  },
  {
   "cell_type": "code",
   "execution_count": null,
   "metadata": {},
   "outputs": [],
   "source": [
    "X_trans['EDUCATION']"
   ]
  },
  {
   "cell_type": "code",
   "execution_count": null,
   "metadata": {},
   "outputs": [],
   "source": [
    "X[\"EDUCATION\"].value_counts(normalize=True)"
   ]
  },
  {
   "cell_type": "code",
   "execution_count": null,
   "metadata": {},
   "outputs": [],
   "source": [
    "cbt.features_bucket_mapping_"
   ]
  },
  {
   "cell_type": "code",
   "execution_count": null,
   "metadata": {},
   "outputs": [],
   "source": []
  }
 ],
 "metadata": {
  "kernelspec": {
   "display_name": "Python 3",
   "language": "python",
   "name": "python3"
  },
  "language_info": {
   "codemirror_mode": {
    "name": "ipython",
    "version": 3
   },
   "file_extension": ".py",
   "mimetype": "text/x-python",
   "name": "python",
   "nbconvert_exporter": "python",
   "pygments_lexer": "ipython3",
   "version": "3.6.10"
  }
 },
 "nbformat": 4,
 "nbformat_minor": 4
}
